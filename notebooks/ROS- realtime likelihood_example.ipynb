{
 "cells": [
  {
   "cell_type": "code",
   "execution_count": 2,
   "id": "5ff288d1-585f-4f66-9a79-11ba38198c63",
   "metadata": {},
   "outputs": [],
   "source": [
    "%matplotlib inline"
   ]
  },
  {
   "cell_type": "code",
   "execution_count": 66,
   "id": "9b94b026-17b1-4bf0-a68e-200c626dfff9",
   "metadata": {},
   "outputs": [],
   "source": [
    "import rospy\n",
    "import cv2\n",
    "import numpy as np\n",
    "\n",
    "import seaborn as sns\n",
    "import matplotlib as mpl\n",
    "import matplotlib.pyplot as plt\n",
    "import matplotlib.gridspec as gridspec\n",
    "from mpl_toolkits.mplot3d import Axes3D"
   ]
  },
  {
   "cell_type": "code",
   "execution_count": 67,
   "id": "a8b901b2-e526-499f-97f3-774ed389b0ec",
   "metadata": {},
   "outputs": [],
   "source": [
    "parent_path = \"/mnt/current_data/20221001/station/wifimap\""
   ]
  },
  {
   "cell_type": "code",
   "execution_count": 73,
   "id": "09c94b58-2b69-4e8a-acca-44e75d7b52b8",
   "metadata": {},
   "outputs": [],
   "source": [
    "# read wifimapinfo\n",
    "res, nap = np.loadtxt(parent_path+\"/wifi_map_info.txt\")\n",
    "nap = int(nap) # convert to int\n",
    "\n",
    "# read first map to get dimensions\n",
    "u,v,c = cv2.imread(\"{:s}/wifimap000.ppm\".format(parent_path)).shape\n",
    "wifi_map = np.zeros((u,v,nap))\n",
    "\n",
    "for ap in range(nap):\n",
    "    wifi_map[:,:,ap] = cv2.imread(\"{:s}/wifimap{:03d}.ppm\".format(parent_path,ap))[:,:,0]"
   ]
  },
  {
   "cell_type": "code",
   "execution_count": 74,
   "id": "b947f79b-e960-44ec-ad77-d34770e2b6b9",
   "metadata": {},
   "outputs": [
    {
     "data": {
      "text/plain": [
       "<matplotlib.image.AxesImage at 0x7fe3e530a700>"
      ]
     },
     "execution_count": 74,
     "metadata": {},
     "output_type": "execute_result"
    },
    {
     "data": {
      "image/png": "[encoded data removed]",
      "text/plain": [
       "<Figure size 432x288 with 1 Axes>"
      ]
     },
     "metadata": {
      "needs_background": "light"
     },
     "output_type": "display_data"
    }
   ],
   "source": [
    "plt.imshow(wifi_map[:,:,0])"
   ]
  },
  {
   "cell_type": "code",
   "execution_count": 21,
   "id": "153d9eb8-03a7-4ed0-ab9e-d8e8e9c14d22",
   "metadata": {},
   "outputs": [
    {
     "data": {
      "text/plain": [
       "'/mnt/current_data/20221001/station/wifimap/wifinmap000.ppm'"
      ]
     },
     "execution_count": 21,
     "metadata": {},
     "output_type": "execute_result"
    }
   ],
   "source": [
    "def likelihood_map(z,wifi_map):\n",
    "    "
   ]
  },
  {
   "cell_type": "code",
   "execution_count": 51,
   "id": "74468b3c-c319-45a6-9479-3f660e37e27c",
   "metadata": {},
   "outputs": [
    {
     "name": "stdout",
     "output_type": "stream",
     "text": [
      "pgm\t\twifimap044.ppm\twifimap089.ppm\twifimap134.ppm\n",
      "wifimap000.ppm\twifimap045.ppm\twifimap090.ppm\twifimap135.ppm\n",
      "wifimap001.ppm\twifimap046.ppm\twifimap091.ppm\twifimap136.ppm\n",
      "wifimap002.ppm\twifimap047.ppm\twifimap092.ppm\twifimap137.ppm\n",
      "wifimap003.ppm\twifimap048.ppm\twifimap093.ppm\twifimap138.ppm\n",
      "wifimap004.ppm\twifimap049.ppm\twifimap094.ppm\twifimap139.ppm\n",
      "wifimap005.ppm\twifimap050.ppm\twifimap095.ppm\twifimap140.ppm\n",
      "wifimap006.ppm\twifimap051.ppm\twifimap096.ppm\twifimap141.ppm\n",
      "wifimap007.ppm\twifimap052.ppm\twifimap097.ppm\twifimap142.ppm\n",
      "wifimap008.ppm\twifimap053.ppm\twifimap098.ppm\twifimap143.ppm\n",
      "wifimap009.ppm\twifimap054.ppm\twifimap099.ppm\twifimap144.ppm\n",
      "wifimap010.ppm\twifimap055.ppm\twifimap100.ppm\twifimap145.ppm\n",
      "wifimap011.ppm\twifimap056.ppm\twifimap101.ppm\twifimap146.ppm\n",
      "wifimap012.ppm\twifimap057.ppm\twifimap102.ppm\twifimap147.ppm\n",
      "wifimap013.ppm\twifimap058.ppm\twifimap103.ppm\twifimap148.ppm\n",
      "wifimap014.ppm\twifimap059.ppm\twifimap104.ppm\twifimap149.ppm\n",
      "wifimap015.ppm\twifimap060.ppm\twifimap105.ppm\twifimap150.ppm\n",
      "wifimap016.ppm\twifimap061.ppm\twifimap106.ppm\twifimap151.ppm\n",
      "wifimap017.ppm\twifimap062.ppm\twifimap107.ppm\twifimap152.ppm\n",
      "wifimap018.ppm\twifimap063.ppm\twifimap108.ppm\twifimap153.ppm\n",
      "wifimap019.ppm\twifimap064.ppm\twifimap109.ppm\twifimap154.ppm\n",
      "wifimap020.ppm\twifimap065.ppm\twifimap110.ppm\twifimap155.ppm\n",
      "wifimap021.ppm\twifimap066.ppm\twifimap111.ppm\twifimap156.ppm\n",
      "wifimap022.ppm\twifimap067.ppm\twifimap112.ppm\twifimap157.ppm\n",
      "wifimap023.ppm\twifimap068.ppm\twifimap113.ppm\twifimap158.ppm\n",
      "wifimap024.ppm\twifimap069.ppm\twifimap114.ppm\twifimap159.ppm\n",
      "wifimap025.ppm\twifimap070.ppm\twifimap115.ppm\twifimap160.ppm\n",
      "wifimap026.ppm\twifimap071.ppm\twifimap116.ppm\twifimap161.ppm\n",
      "wifimap027.ppm\twifimap072.ppm\twifimap117.ppm\twifimap162.ppm\n",
      "wifimap028.ppm\twifimap073.ppm\twifimap118.ppm\twifimap163.ppm\n",
      "wifimap029.ppm\twifimap074.ppm\twifimap119.ppm\twifimap164.ppm\n",
      "wifimap030.ppm\twifimap075.ppm\twifimap120.ppm\twifimap165.ppm\n",
      "wifimap031.ppm\twifimap076.ppm\twifimap121.ppm\twifimap166.ppm\n",
      "wifimap032.ppm\twifimap077.ppm\twifimap122.ppm\twifimap167.ppm\n",
      "wifimap033.ppm\twifimap078.ppm\twifimap123.ppm\twifimap168.ppm\n",
      "wifimap034.ppm\twifimap079.ppm\twifimap124.ppm\twifimap169.ppm\n",
      "wifimap035.ppm\twifimap080.ppm\twifimap125.ppm\twifimap170.ppm\n",
      "wifimap036.ppm\twifimap081.ppm\twifimap126.ppm\twifimap171.ppm\n",
      "wifimap037.ppm\twifimap082.ppm\twifimap127.ppm\twifimap172.ppm\n",
      "wifimap038.ppm\twifimap083.ppm\twifimap128.ppm\twifimap173.ppm\n",
      "wifimap039.ppm\twifimap084.ppm\twifimap129.ppm\twifimap174.ppm\n",
      "wifimap040.ppm\twifimap085.ppm\twifimap130.ppm\twifimap175.ppm\n",
      "wifimap041.ppm\twifimap086.ppm\twifimap131.ppm\twifi_map_info.txt\n",
      "wifimap042.ppm\twifimap087.ppm\twifimap132.ppm\n",
      "wifimap043.ppm\twifimap088.ppm\twifimap133.ppm\n"
     ]
    }
   ],
   "source": []
  },
  {
   "cell_type": "code",
   "execution_count": null,
   "id": "560b2a68-0735-4acd-bcc5-88f5e13caaea",
   "metadata": {},
   "outputs": [],
   "source": []
  }
 ],
 "metadata": {
  "kernelspec": {
   "display_name": "Python 3",
   "language": "python",
   "name": "python3"
  },
  "language_info": {
   "codemirror_mode": {
    "name": "ipython",
    "version": 3
   },
   "file_extension": ".py",
   "mimetype": "text/x-python",
   "name": "python",
   "nbconvert_exporter": "python",
   "pygments_lexer": "ipython3",
   "version": "3.8.10"
  }
 },
 "nbformat": 4,
 "nbformat_minor": 5
}
