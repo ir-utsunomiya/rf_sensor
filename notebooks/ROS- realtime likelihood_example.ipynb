{
 "cells": [
  {
   "cell_type": "code",
   "execution_count": 115,
   "id": "5ff288d1-585f-4f66-9a79-11ba38198c63",
   "metadata": {},
   "outputs": [],
   "source": [
    "%matplotlib inline"
   ]
  },
  {
   "cell_type": "code",
   "execution_count": 36,
   "id": "9b94b026-17b1-4bf0-a68e-200c626dfff9",
   "metadata": {},
   "outputs": [],
   "source": [
    "import rospy\n",
    "import cv2\n",
    "import numpy as np\n",
    "\n",
    "import seaborn as sns\n",
    "import matplotlib as mpl\n",
    "import matplotlib.pyplot as plt\n",
    "import matplotlib.gridspec as gridspec\n",
    "from mpl_toolkits.mplot3d import Axes3D"
   ]
  },
  {
   "cell_type": "code",
   "execution_count": 37,
   "id": "a8b901b2-e526-499f-97f3-774ed389b0ec",
   "metadata": {},
   "outputs": [],
   "source": [
    "parent_path = \"/mnt/current_data/mech/wifimap\""
   ]
  },
  {
   "cell_type": "code",
   "execution_count": 39,
   "id": "09c94b58-2b69-4e8a-acca-44e75d7b52b8",
   "metadata": {},
   "outputs": [],
   "source": [
    "# read wifimapinfo\n",
    "u,v,res,nap = np.loadtxt(parent_path+\"/wifi_map_info.txt\")\n",
    "# convert to u,v,nap to int\n",
    "u,v,nap = int(u), int(v), int(nap)\n",
    "# init map as a np.array\n",
    "wifi_map = np.zeros((v,u,nap))\n",
    "wifi_map_sd = np.zeros((v,u,1))\n",
    "# read map info from image\n",
    "for ap in range(nap):\n",
    "    wifi_map[:,:,ap] = cv2.imread(\"{:s}/wifimap{:03d}.ppm\".format(parent_path,ap))[:,:,0].astype(np.uint8)\n",
    "# read var map info from image\n",
    "wifi_map_sd[:,:,0] = cv2.imread(\"{:s}/wifisd.ppm\".format(parent_path,ap))[:,:,0].astype(np.uint8)\n",
    "# convert map data to float\n",
    "wifi_map = wifi_map.astype(np.float64)\n",
    "wifi_map_sd = wifi_map_sd.astype(np.float64)"
   ]
  },
  {
   "cell_type": "code",
   "execution_count": 210,
   "id": "b947f79b-e960-44ec-ad77-d34770e2b6b9",
   "metadata": {},
   "outputs": [
    {
     "data": {
      "text/plain": [
       "<matplotlib.image.AxesImage at 0x7fe3da110af0>"
      ]
     },
     "execution_count": 210,
     "metadata": {},
     "output_type": "execute_result"
    },
    {
     "data": {
      "image/png": "[encoded data removed]",
      "text/plain": [
       "<Figure size 432x288 with 1 Axes>"
      ]
     },
     "metadata": {
      "needs_background": "light"
     },
     "output_type": "display_data"
    }
   ],
   "source": [
    "plt.imshow(wifi_map[:,:,0])"
   ]
  },
  {
   "cell_type": "code",
   "execution_count": 211,
   "id": "eec8d3e4-6c09-4623-b2d8-926bae865e63",
   "metadata": {},
   "outputs": [
    {
     "data": {
      "text/plain": [
       "<matplotlib.image.AxesImage at 0x7fe3dad21220>"
      ]
     },
     "execution_count": 211,
     "metadata": {},
     "output_type": "execute_result"
    },
    {
     "data": {
      "image/png": "[encoded data removed]",
      "text/plain": [
       "<Figure size 432x288 with 1 Axes>"
      ]
     },
     "metadata": {
      "needs_background": "light"
     },
     "output_type": "display_data"
    }
   ],
   "source": [
    "plt.imshow(wifi_map_sd[:,:,0])"
   ]
  },
  {
   "cell_type": "code",
   "execution_count": 239,
   "id": "153d9eb8-03a7-4ed0-ab9e-d8e8e9c14d22",
   "metadata": {},
   "outputs": [],
   "source": [
    "def likelihood_map(z,wifi_map, wifi_map_sd):\n",
    "    logsqrt2pi = 0.5*np.log(2*np.pi)\n",
    "    sd_nap = np.matmul(wifi_map_sd,np.ones((1,nap)))\n",
    "    logerr = -np.log(sd_nap) - logsqrt2pi - 0.5*((wifi_map-z)/sd_nap)**2\n",
    "    # joint likelihood =  exp(sum(alphai*logi)), with sum(alphai)=1\n",
    "    alpha = z/np.sum(z)\n",
    "    logtot = np.matmul(logerr,alpha[:,None])\n",
    "    prob = np.exp(logtot[:,:,0])\n",
    "    return prob"
   ]
  },
  {
   "cell_type": "code",
   "execution_count": 246,
   "id": "234e326a-0f2b-4443-b823-344987f69d6b",
   "metadata": {},
   "outputs": [
    {
     "data": {
      "text/plain": [
       "<matplotlib.image.AxesImage at 0x7fe3d92aecd0>"
      ]
     },
     "execution_count": 246,
     "metadata": {},
     "output_type": "execute_result"
    },
    {
     "data": {
      "image/png": "[encoded data removed]",
      "text/plain": [
       "<Figure size 432x288 with 1 Axes>"
      ]
     },
     "metadata": {
      "needs_background": "light"
     },
     "output_type": "display_data"
    }
   ],
   "source": [
    "# simple test. Choose a point, compute likelihood map\n",
    "z = wifi_map[30,5,:]\n",
    "prob = likelihood_map(z, wifi_map, wifi_map_sd)\n",
    "\n",
    "plt.imshow(prob)"
   ]
  },
  {
   "cell_type": "code",
   "execution_count": null,
   "id": "e130f260-e518-4dbf-8da1-32b5aa7ef2d0",
   "metadata": {},
   "outputs": [],
   "source": []
  }
 ],
 "metadata": {
  "kernelspec": {
   "display_name": "Python 3",
   "language": "python",
   "name": "python3"
  },
  "language_info": {
   "codemirror_mode": {
    "name": "ipython",
    "version": 3
   },
   "file_extension": ".py",
   "mimetype": "text/x-python",
   "name": "python",
   "nbconvert_exporter": "python",
   "pygments_lexer": "ipython3",
   "version": "3.8.10"
  }
 },
 "nbformat": 4,
 "nbformat_minor": 5
}
