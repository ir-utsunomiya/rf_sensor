{
 "cells": [
  {
   "cell_type": "code",
   "execution_count": 1,
   "metadata": {},
   "outputs": [],
   "source": [
    "%matplotlib inline\n",
    "import sys\n",
    "import pandas as pd\n",
    "import numpy as np\n",
    "sys.path.append('../src/rf_sensor') #rf_sensor/src/rf_sensor folder path"
   ]
  },
  {
   "cell_type": "code",
   "execution_count": 2,
   "metadata": {},
   "outputs": [],
   "source": [
    "from WiFiDevice import WiFiDevice"
   ]
  },
  {
   "cell_type": "markdown",
   "metadata": {},
   "source": [
    "# Running ifconfig and iwconfig as sudo\n",
    "\n",
    "It is recommended to modify sudoers to allow your user to run ifconfig, iwconfig and tcpdump as sudo without password. otherwise, calling functions that require sudo from notebook, does not work.\n",
    "\n",
    "To modify your sudoer\n",
    "\n",
    "```sudo visudo``` \n",
    "\n",
    "\n",
    "Go to the end of the file and add\n",
    "\n",
    "```your_user_name ALL=(root) NOPASSWD: /sbin/iwconfig, /sbin/ifconfig, /usr/sbin/tcpdump```\n",
    "\n",
    "replace your_user_name by the name of your user"
   ]
  },
  {
   "cell_type": "code",
   "execution_count": 3,
   "metadata": {},
   "outputs": [
    {
     "name": "stdout",
     "output_type": "stream",
     "text": [
      "sudo -S ifconfig wlx1cbfce958ca7 down    \tOK\n",
      "sudo -S ifconfig wlx1cbfce958ca7 up      \tOK\n",
      "sudo -S ifconfig wlx1cbfce958ca7 down    \tOK\n",
      "sudo -S iwconfig wlx1cbfce958ca7 mode monitor \tOK\n",
      "sudo -S ifconfig wlx1cbfce958ca7 up      \tOK\n",
      "sudo -S iwconfig wlx1cbfce958ca7 channel 1 \tOK\n",
      "\n",
      "Device Initialized\n"
     ]
    }
   ],
   "source": [
    "# Init device\n",
    "wifi = WiFiDevice(iface='wlx1cbfce958ca7')"
   ]
  },
  {
   "cell_type": "code",
   "execution_count": 4,
   "metadata": {},
   "outputs": [
    {
     "name": "stdout",
     "output_type": "stream",
     "text": [
      "Channel Hopper Initialized\n"
     ]
    },
    {
     "data": {
      "text/plain": [
       "0"
      ]
     },
     "execution_count": 4,
     "metadata": {},
     "output_type": "execute_result"
    }
   ],
   "source": [
    "# start channel hopper\n",
    "wifi.chopper_start()"
   ]
  },
  {
   "cell_type": "code",
   "execution_count": 5,
   "metadata": {},
   "outputs": [
    {
     "name": "stdout",
     "output_type": "stream",
     "text": [
      "tcpdump process initialized\n",
      "b'21:02:37.574806 1.0 Mb/s 2412 MHz 11b -67dBm signal -67dBm signal antenna 0 BSSID:36:76:c5:9a:c7:0c DA:ff:ff:ff:ff:ff:ff SA:36:76:c5:9a:c7:0c Beacon () [1.0* 2.0* 5.5* 11.0* 9.0 18.0 36.0 54.0 Mbit] ESS CH: 1, PRIVACY\\n'\n"
     ]
    }
   ],
   "source": [
    "wifi.tcpdump_start()\n",
    "wifi.read()"
   ]
  },
  {
   "cell_type": "code",
   "execution_count": 6,
   "metadata": {},
   "outputs": [
    {
     "name": "stdout",
     "output_type": "stream",
     "text": [
      "RSS messages stored at data\n"
     ]
    },
    {
     "data": {
      "text/plain": [
       "0"
      ]
     },
     "execution_count": 6,
     "metadata": {},
     "output_type": "execute_result"
    }
   ],
   "source": [
    "wifi.read_start()"
   ]
  },
  {
   "cell_type": "code",
   "execution_count": 8,
   "metadata": {},
   "outputs": [
    {
     "name": "stdout",
     "output_type": "stream",
     "text": [
      "[datetime.datetime(2020, 5, 18, 12, 2, 40, 455885), 2412, b'50:c7:bf:a7:9a:73', array([-43, -43])]\n",
      "[datetime.datetime(2020, 5, 18, 12, 2, 40, 458534), 2412, b'04:92:26:6c:4e:98', array([-47, -47])]\n",
      "[datetime.datetime(2020, 5, 18, 12, 2, 40, 460705), 2412, b'34:76:c5:8a:c7:0c', array([-69, -69])]\n",
      "[datetime.datetime(2020, 5, 18, 12, 2, 40, 462854), 2412, b'36:76:c5:9a:c7:0c', array([-69, -69])]\n",
      "[datetime.datetime(2020, 5, 18, 12, 2, 40, 464990), 2412, b'50:c7:bf:a7:9a:73', array([-45, -45])]\n",
      "[datetime.datetime(2020, 5, 18, 12, 2, 40, 467111), 2412, b'04:92:26:6c:4e:98', array([-47, -47])]\n",
      "[datetime.datetime(2020, 5, 18, 12, 2, 40, 469228), 2412, b'36:76:c5:9a:c7:0c', array([-63, -63])]\n",
      "[datetime.datetime(2020, 5, 18, 12, 2, 40, 471377), 2412, b'50:c7:bf:a7:9a:73', array([-45, -45])]\n",
      "[datetime.datetime(2020, 5, 18, 12, 2, 40, 473522), 2412, b'04:92:26:6c:4e:98', array([-47, -47])]\n",
      "[datetime.datetime(2020, 5, 18, 12, 2, 40, 475660), 2412, b'1c:b1:7f:e0:cd:1e', array([-51, -51])]\n",
      "[datetime.datetime(2020, 5, 18, 12, 2, 40, 477779), 2437, b'2e:b1:7f:e0:cd:1e', array([-51, -51])]\n",
      "[datetime.datetime(2020, 5, 18, 12, 2, 40, 479895), 2437, b'2e:b1:7f:e0:cd:1e', array([-51, -51])]\n",
      "[datetime.datetime(2020, 5, 18, 12, 2, 40, 482002), 2437, b'1c:b1:7f:e0:cd:1e', array([-51, -51])]\n",
      "[datetime.datetime(2020, 5, 18, 12, 2, 40, 484129), 2437, b'2e:b1:7f:e0:cd:1e', array([-51, -51])]\n",
      "[datetime.datetime(2020, 5, 18, 12, 2, 40, 486247), 2437, b'1c:b1:7f:e0:cd:1e', array([-51, -51])]\n",
      "[datetime.datetime(2020, 5, 18, 12, 2, 40, 488395), 2462, b'98:f1:99:8c:1f:ae', array([-69, -69])]\n",
      "[datetime.datetime(2020, 5, 18, 12, 2, 40, 490508), 2462, b'34:3d:c4:48:5b:8f', array([-73, -73])]\n",
      "[datetime.datetime(2020, 5, 18, 12, 2, 40, 492617), 2412, b'50:c7:bf:a7:9a:73', array([-47, -47])]\n",
      "[datetime.datetime(2020, 5, 18, 12, 2, 40, 494732), 2412, b'04:92:26:6c:4e:98', array([-45, -45])]\n",
      "[datetime.datetime(2020, 5, 18, 12, 2, 40, 496846), 2412, b'50:c7:bf:a7:9a:73', array([-45, -45])]\n",
      "[datetime.datetime(2020, 5, 18, 12, 2, 40, 498958), 2412, b'04:92:26:6c:4e:98', array([-49, -49])]\n",
      "[datetime.datetime(2020, 5, 18, 12, 2, 40, 501070), 2412, b'34:76:c5:8a:c7:0c', array([-63, -63])]\n",
      "[datetime.datetime(2020, 5, 18, 12, 2, 40, 503190), 2412, b'36:76:c5:9a:c7:0c', array([-69, -69])]\n",
      "[datetime.datetime(2020, 5, 18, 12, 2, 40, 505342), 2412, b'50:c7:bf:a7:9a:73', array([-45, -45])]\n",
      "[datetime.datetime(2020, 5, 18, 12, 2, 40, 507455), 2412, b'04:92:26:6c:4e:98', array([-47, -47])]\n",
      "[datetime.datetime(2020, 5, 18, 12, 2, 40, 509563), 2412, b'2e:b1:7f:e0:cd:1e', array([-51, -51])]\n",
      "[datetime.datetime(2020, 5, 18, 12, 2, 40, 511676), 2437, b'1c:b1:7f:e0:cd:1e', array([-51, -51])]\n",
      "[datetime.datetime(2020, 5, 18, 12, 2, 40, 513808), 2437, b'60:84:bd:1d:55:38', array([-63, -63])]\n",
      "[datetime.datetime(2020, 5, 18, 12, 2, 40, 515942), 2437, b'2e:b1:7f:e0:cd:1e', array([-53, -53])]\n",
      "[datetime.datetime(2020, 5, 18, 12, 2, 40, 518058), 2437, b'1c:b1:7f:e0:cd:1e', array([-51, -51])]\n",
      "[datetime.datetime(2020, 5, 18, 12, 2, 40, 520186), 2437, b'60:84:bd:1d:55:38', array([-65, -65])]\n",
      "[datetime.datetime(2020, 5, 18, 12, 2, 40, 522299), 2437, b'2e:b1:7f:e0:cd:1e', array([-53, -53])]\n",
      "[datetime.datetime(2020, 5, 18, 12, 2, 40, 524418), 2437, b'2e:b1:7f:e0:cd:1e', array([-51, -51])]\n",
      "[datetime.datetime(2020, 5, 18, 12, 2, 40, 526526), 2437, b'1c:b1:7f:e0:cd:1e', array([-51, -51])]\n",
      "[datetime.datetime(2020, 5, 18, 12, 2, 40, 528638), 2462, b'98:f1:99:8c:1f:ae', array([-69, -69])]\n",
      "[datetime.datetime(2020, 5, 18, 12, 2, 40, 530747), 2462, b'50:c7:bf:a7:9a:73', array([-45, -45])]\n",
      "[datetime.datetime(2020, 5, 18, 12, 2, 40, 532876), 2462, b'04:92:26:6c:4e:98', array([-49, -49])]\n",
      "[datetime.datetime(2020, 5, 18, 12, 2, 40, 534994), 2412, b'50:c7:bf:a7:9a:73', array([-43, -43])]\n",
      "[datetime.datetime(2020, 5, 18, 12, 2, 40, 537120), 2412, b'04:92:26:6c:4e:98', array([-47, -47])]\n",
      "[datetime.datetime(2020, 5, 18, 12, 2, 40, 539234), 2412, b'36:76:c5:9a:c7:0c', array([-69, -69])]\n",
      "[datetime.datetime(2020, 5, 18, 12, 2, 40, 541346), 2412, b'50:c7:bf:a7:9a:73', array([-43, -43])]\n",
      "[datetime.datetime(2020, 5, 18, 12, 2, 40, 543456), 2412, b'04:92:26:6c:4e:98', array([-41, -41])]\n",
      "[datetime.datetime(2020, 5, 18, 12, 2, 40, 545563), 2412, b'34:76:c5:8a:c7:0c', array([-67, -67])]\n",
      "[datetime.datetime(2020, 5, 18, 12, 2, 40, 547673), 2412, b'50:c7:bf:a7:9a:73', array([-43, -43])]\n",
      "[datetime.datetime(2020, 5, 18, 12, 2, 40, 549783), 2412, b'04:92:26:6c:4e:98', array([-45, -45])]\n",
      "[datetime.datetime(2020, 5, 18, 12, 2, 40, 551912), 2437, b'2e:b1:7f:e0:cd:1e', array([-51, -51])]\n",
      "[datetime.datetime(2020, 5, 18, 12, 2, 40, 554038), 2437, b'1c:b1:7f:e0:cd:1e', array([-51, -51])]\n",
      "[datetime.datetime(2020, 5, 18, 12, 2, 40, 556149), 2437, b'2e:b1:7f:e0:cd:1e', array([-53, -53])]\n",
      "[datetime.datetime(2020, 5, 18, 12, 2, 40, 558267), 2437, b'1c:b1:7f:e0:cd:1e', array([-51, -51])]\n",
      "[datetime.datetime(2020, 5, 18, 12, 2, 40, 560374), 2437, b'2e:b1:7f:e0:cd:1e', array([-53, -53])]\n",
      "[datetime.datetime(2020, 5, 18, 12, 2, 40, 562480), 2437, b'1c:b1:7f:e0:cd:1e', array([-49, -49])]\n",
      "[datetime.datetime(2020, 5, 18, 12, 2, 40, 564587), 2437, b'2e:b1:7f:e0:cd:1e', array([-53, -53])]\n",
      "[datetime.datetime(2020, 5, 18, 12, 2, 40, 566704), 2462, b'98:f1:99:8c:1f:ae', array([-65, -65])]\n",
      "[datetime.datetime(2020, 5, 18, 12, 2, 40, 568817), 2462, b'34:3d:c4:48:5b:8f', array([-71, -71])]\n",
      "[datetime.datetime(2020, 5, 18, 12, 2, 40, 745665), 2412, b'34:76:c5:8a:c7:0c', array([-71, -71])]\n",
      "[datetime.datetime(2020, 5, 18, 12, 2, 40, 757978), 2412, b'50:c7:bf:a7:9a:73', array([-45, -45])]\n",
      "[datetime.datetime(2020, 5, 18, 12, 2, 40, 761098), 2412, b'04:92:26:6c:4e:98', array([-39, -39])]\n",
      "[datetime.datetime(2020, 5, 18, 12, 2, 40, 860378), 2412, b'50:c7:bf:a7:9a:73', array([-45, -45])]\n",
      "[datetime.datetime(2020, 5, 18, 12, 2, 40, 863425), 2412, b'04:92:26:6c:4e:98', array([-49, -49])]\n",
      "[datetime.datetime(2020, 5, 18, 12, 2, 40, 962774), 2412, b'50:c7:bf:a7:9a:73', array([-43, -43])]\n",
      "[datetime.datetime(2020, 5, 18, 12, 2, 41, 57809), 2412, b'36:76:c5:9a:c7:0c', array([-71, -71])]\n",
      "[datetime.datetime(2020, 5, 18, 12, 2, 41, 65197), 2412, b'50:c7:bf:a7:9a:73', array([-45, -45])]\n",
      "[datetime.datetime(2020, 5, 18, 12, 2, 41, 68261), 2412, b'04:92:26:6c:4e:98', array([-47, -47])]\n",
      "[datetime.datetime(2020, 5, 18, 12, 2, 41, 104135), 2437, b'1c:b1:7f:e0:cd:1e', array([-53, -53])]\n",
      "[datetime.datetime(2020, 5, 18, 12, 2, 41, 154445), 2437, b'2e:b1:7f:e0:cd:1e', array([-53, -53])]\n",
      "[datetime.datetime(2020, 5, 18, 12, 2, 41, 206344), 2437, b'1c:b1:7f:e0:cd:1e', array([-53, -53])]\n",
      "[datetime.datetime(2020, 5, 18, 12, 2, 41, 211474), 2437, b'60:84:bd:1d:55:38', array([-65, -65])]\n",
      "[datetime.datetime(2020, 5, 18, 12, 2, 41, 256604), 2437, b'2e:b1:7f:e0:cd:1e', array([-51, -51])]\n",
      "[datetime.datetime(2020, 5, 18, 12, 2, 41, 308746), 2437, b'1c:b1:7f:e0:cd:1e', array([-53, -53])]\n",
      "[datetime.datetime(2020, 5, 18, 12, 2, 41, 361533), 2437, b'2e:b1:7f:e0:cd:1e', array([-53, -53])]\n",
      "[datetime.datetime(2020, 5, 18, 12, 2, 41, 411151), 2437, b'1c:b1:7f:e0:cd:1e', array([-53, -53])]\n",
      "[datetime.datetime(2020, 5, 18, 12, 2, 41, 416279), 2437, b'60:84:bd:1d:55:38', array([-63, -63])]\n",
      "[datetime.datetime(2020, 5, 18, 12, 2, 41, 552404), 2462, b'46:aa:c2:a8:ea:b8', array([-75, -75])]\n",
      "[datetime.datetime(2020, 5, 18, 12, 2, 41, 884415), 2412, b'50:c7:bf:a7:9a:73', array([-47, -47])]\n",
      "[datetime.datetime(2020, 5, 18, 12, 2, 41, 887443), 2412, b'04:92:26:6c:4e:98', array([-47, -47])]\n",
      "[datetime.datetime(2020, 5, 18, 12, 2, 41, 973302), 2412, b'34:76:c5:8a:c7:0c', array([-67, -67])]\n",
      "[datetime.datetime(2020, 5, 18, 12, 2, 41, 986775), 2412, b'50:c7:bf:a7:9a:73', array([-45, -45])]\n",
      "[datetime.datetime(2020, 5, 18, 12, 2, 41, 989834), 2412, b'04:92:26:6c:4e:98', array([-45, -45])]\n",
      "[datetime.datetime(2020, 5, 18, 12, 2, 42, 77018), 2412, b'34:76:c5:8a:c7:0c', array([-65, -65])]\n",
      "[datetime.datetime(2020, 5, 18, 12, 2, 42, 79720), 2412, b'36:76:c5:9a:c7:0c', array([-67, -67])]\n",
      "[datetime.datetime(2020, 5, 18, 12, 2, 42, 89178), 2412, b'50:c7:bf:a7:9a:73', array([-45, -45])]\n",
      "[datetime.datetime(2020, 5, 18, 12, 2, 42, 92236), 2412, b'04:92:26:6c:4e:98', array([-47, -47])]\n",
      "[datetime.datetime(2020, 5, 18, 12, 2, 42, 178223), 2437, b'2e:b1:7f:e0:cd:1e', array([-51, -51])]\n",
      "[datetime.datetime(2020, 5, 18, 12, 2, 42, 231072), 2437, b'1c:b1:7f:e0:cd:1e', array([-51, -51])]\n",
      "[datetime.datetime(2020, 5, 18, 12, 2, 42, 284650), 2437, b'2e:b1:7f:e0:cd:1e', array([-51, -51])]\n",
      "[datetime.datetime(2020, 5, 18, 12, 2, 42, 334788), 2437, b'1c:b1:7f:e0:cd:1e', array([-51, -51])]\n",
      "[datetime.datetime(2020, 5, 18, 12, 2, 42, 383023), 2437, b'2e:b1:7f:e0:cd:1e', array([-51, -51])]\n",
      "[datetime.datetime(2020, 5, 18, 12, 2, 42, 440517), 2437, b'1c:b1:7f:e0:cd:1e', array([-51, -51])]\n",
      "[datetime.datetime(2020, 5, 18, 12, 2, 42, 489035), 2437, b'2e:b1:7f:e0:cd:1e', array([-51, -51])]\n",
      "[datetime.datetime(2020, 5, 18, 12, 2, 42, 636281), 2462, b'34:3d:c4:48:5b:8f', array([-73, -73])]\n",
      "[datetime.datetime(2020, 5, 18, 12, 2, 42, 727466), 2462, b'98:f1:99:8c:1f:ae', array([-71, -71])]\n",
      "[datetime.datetime(2020, 5, 18, 12, 2, 42, 829850), 2462, b'98:f1:99:8c:1f:ae', array([-69, -69])]\n",
      "[datetime.datetime(2020, 5, 18, 12, 2, 42, 901611), 2412, b'36:76:c5:9a:c7:0c', array([-67, -67])]\n",
      "[datetime.datetime(2020, 5, 18, 12, 2, 42, 908401), 2412, b'50:c7:bf:a7:9a:73', array([-43, -43])]\n",
      "[datetime.datetime(2020, 5, 18, 12, 2, 42, 911467), 2412, b'04:92:26:6c:4e:98', array([-43, -43])]\n",
      "[datetime.datetime(2020, 5, 18, 12, 2, 42, 997492), 2412, b'34:76:c5:8a:c7:0c', array([-69, -69])]\n",
      "[datetime.datetime(2020, 5, 18, 12, 2, 43, 10789), 2412, b'50:c7:bf:a7:9a:73', array([-41, -41])]\n",
      "[datetime.datetime(2020, 5, 18, 12, 2, 43, 13843), 2412, b'04:92:26:6c:4e:98', array([-47, -47])]\n",
      "[datetime.datetime(2020, 5, 18, 12, 2, 43, 113249), 2412, b'50:c7:bf:a7:9a:73', array([-43, -43])]\n",
      "[datetime.datetime(2020, 5, 18, 12, 2, 43, 116273), 2412, b'04:92:26:6c:4e:98', array([-45, -45])]\n",
      "[datetime.datetime(2020, 5, 18, 12, 2, 43, 203073), 2412, b'34:76:c5:8a:c7:0c', array([-65, -65])]\n",
      "[datetime.datetime(2020, 5, 18, 12, 2, 43, 215650), 2412, b'50:c7:bf:a7:9a:73', array([-43, -43])]\n",
      "[datetime.datetime(2020, 5, 18, 12, 2, 43, 219054), 2412, b'04:92:26:6c:4e:98', array([-47, -47])]\n",
      "[datetime.datetime(2020, 5, 18, 12, 2, 43, 254405), 2437, b'1c:b1:7f:e0:cd:1e', array([-53, -53])]\n",
      "[datetime.datetime(2020, 5, 18, 12, 2, 43, 304927), 2437, b'2e:b1:7f:e0:cd:1e', array([-51, -51])]\n",
      "[datetime.datetime(2020, 5, 18, 12, 2, 43, 356807), 2437, b'1c:b1:7f:e0:cd:1e', array([-51, -51])]\n",
      "[datetime.datetime(2020, 5, 18, 12, 2, 43, 407035), 2437, b'2e:b1:7f:e0:cd:1e', array([-53, -53])]\n",
      "[datetime.datetime(2020, 5, 18, 12, 2, 43, 459180), 2437, b'1c:b1:7f:e0:cd:1e', array([-53, -53])]\n",
      "[datetime.datetime(2020, 5, 18, 12, 2, 43, 464309), 2437, b'60:84:bd:1d:55:38', array([-65, -65])]\n",
      "[datetime.datetime(2020, 5, 18, 12, 2, 43, 510938), 2437, b'2e:b1:7f:e0:cd:1e', array([-51, -51])]\n",
      "[datetime.datetime(2020, 5, 18, 12, 2, 43, 561667), 2437, b'1c:b1:7f:e0:cd:1e', array([-51, -51])]\n",
      "[datetime.datetime(2020, 5, 18, 12, 2, 43, 751519), 2462, b'98:f1:99:8c:1f:ae', array([-67, -67])]\n",
      "[datetime.datetime(2020, 5, 18, 12, 2, 43, 853909), 2462, b'98:f1:99:8c:1f:ae', array([-69, -69])]\n",
      "[datetime.datetime(2020, 5, 18, 12, 2, 44, 34821), 2412, b'50:c7:bf:a7:9a:73', array([-43, -43])]\n",
      "[datetime.datetime(2020, 5, 18, 12, 2, 44, 37865), 2412, b'04:92:26:6c:4e:98', array([-45, -45])]\n",
      "[datetime.datetime(2020, 5, 18, 12, 2, 44, 124022), 2412, b'34:76:c5:8a:c7:0c', array([-65, -65])]\n",
      "[datetime.datetime(2020, 5, 18, 12, 2, 44, 128350), 2412, b'36:76:c5:9a:c7:0c', array([-67, -67])]\n",
      "[datetime.datetime(2020, 5, 18, 12, 2, 44, 137603), 2412, b'50:c7:bf:a7:9a:73', array([-43, -43])]\n",
      "[datetime.datetime(2020, 5, 18, 12, 2, 44, 144845), 2412, b'04:92:26:6c:4e:98', array([-47, -47])]\n",
      "[datetime.datetime(2020, 5, 18, 12, 2, 44, 239612), 2412, b'50:c7:bf:a7:9a:73', array([-43, -43])]\n",
      "[datetime.datetime(2020, 5, 18, 12, 2, 44, 242708), 2412, b'04:92:26:6c:4e:98', array([-49, -49])]\n"
     ]
    }
   ],
   "source": [
    "for datum in wifi.data:\n",
    "    print(datum)"
   ]
  },
  {
   "cell_type": "code",
   "execution_count": 9,
   "metadata": {},
   "outputs": [],
   "source": [
    "wifi.data[:] = []"
   ]
  },
  {
   "cell_type": "code",
   "execution_count": 10,
   "metadata": {},
   "outputs": [
    {
     "ename": "PermissionError",
     "evalue": "[Errno 1] Operation not permitted",
     "output_type": "error",
     "traceback": [
      "\u001b[0;31m---------------------------------------------------------------------------\u001b[0m",
      "\u001b[0;31mPermissionError\u001b[0m                           Traceback (most recent call last)",
      "\u001b[0;32m<ipython-input-10-ca7921b4d7a8>\u001b[0m in \u001b[0;36m<module>\u001b[0;34m\u001b[0m\n\u001b[0;32m----> 1\u001b[0;31m \u001b[0mwifi\u001b[0m\u001b[0;34m.\u001b[0m\u001b[0mterminate\u001b[0m\u001b[0;34m(\u001b[0m\u001b[0;34m)\u001b[0m\u001b[0;34m\u001b[0m\u001b[0;34m\u001b[0m\u001b[0m\n\u001b[0m",
      "\u001b[0;32m~/catkin_ws/src/rf_sensor/src/rf_sensor/WiFiDevice.py\u001b[0m in \u001b[0;36mterminate\u001b[0;34m(self)\u001b[0m\n\u001b[1;32m    142\u001b[0m     \u001b[0;32mdef\u001b[0m \u001b[0mterminate\u001b[0m\u001b[0;34m(\u001b[0m\u001b[0mself\u001b[0m\u001b[0;34m)\u001b[0m\u001b[0;34m:\u001b[0m\u001b[0;34m\u001b[0m\u001b[0;34m\u001b[0m\u001b[0m\n\u001b[1;32m    143\u001b[0m         \u001b[0mself\u001b[0m\u001b[0;34m.\u001b[0m\u001b[0mchopper_process\u001b[0m\u001b[0;34m.\u001b[0m\u001b[0mterminate\u001b[0m\u001b[0;34m(\u001b[0m\u001b[0;34m)\u001b[0m\u001b[0;34m\u001b[0m\u001b[0;34m\u001b[0m\u001b[0m\n\u001b[0;32m--> 144\u001b[0;31m         \u001b[0mself\u001b[0m\u001b[0;34m.\u001b[0m\u001b[0mtcpdump_process\u001b[0m\u001b[0;34m.\u001b[0m\u001b[0mterminate\u001b[0m\u001b[0;34m(\u001b[0m\u001b[0;34m)\u001b[0m\u001b[0;34m\u001b[0m\u001b[0;34m\u001b[0m\u001b[0m\n\u001b[0m\u001b[1;32m    145\u001b[0m         \u001b[0mself\u001b[0m\u001b[0;34m.\u001b[0m\u001b[0mread_process\u001b[0m\u001b[0;34m.\u001b[0m\u001b[0mterminate\u001b[0m\u001b[0;34m(\u001b[0m\u001b[0;34m)\u001b[0m\u001b[0;34m\u001b[0m\u001b[0;34m\u001b[0m\u001b[0m\n",
      "\u001b[0;32m/usr/lib/python3.6/subprocess.py\u001b[0m in \u001b[0;36mterminate\u001b[0;34m(self)\u001b[0m\n\u001b[1;32m   1603\u001b[0m             \"\"\"Terminate the process with SIGTERM\n\u001b[1;32m   1604\u001b[0m             \"\"\"\n\u001b[0;32m-> 1605\u001b[0;31m             \u001b[0mself\u001b[0m\u001b[0;34m.\u001b[0m\u001b[0msend_signal\u001b[0m\u001b[0;34m(\u001b[0m\u001b[0msignal\u001b[0m\u001b[0;34m.\u001b[0m\u001b[0mSIGTERM\u001b[0m\u001b[0;34m)\u001b[0m\u001b[0;34m\u001b[0m\u001b[0;34m\u001b[0m\u001b[0m\n\u001b[0m\u001b[1;32m   1606\u001b[0m \u001b[0;34m\u001b[0m\u001b[0m\n\u001b[1;32m   1607\u001b[0m         \u001b[0;32mdef\u001b[0m \u001b[0mkill\u001b[0m\u001b[0;34m(\u001b[0m\u001b[0mself\u001b[0m\u001b[0;34m)\u001b[0m\u001b[0;34m:\u001b[0m\u001b[0;34m\u001b[0m\u001b[0;34m\u001b[0m\u001b[0m\n",
      "\u001b[0;32m/usr/lib/python3.6/subprocess.py\u001b[0m in \u001b[0;36msend_signal\u001b[0;34m(self, sig)\u001b[0m\n\u001b[1;32m   1598\u001b[0m             \u001b[0;31m# Skip signalling a process that we know has already died.\u001b[0m\u001b[0;34m\u001b[0m\u001b[0;34m\u001b[0m\u001b[0;34m\u001b[0m\u001b[0m\n\u001b[1;32m   1599\u001b[0m             \u001b[0;32mif\u001b[0m \u001b[0mself\u001b[0m\u001b[0;34m.\u001b[0m\u001b[0mreturncode\u001b[0m \u001b[0;32mis\u001b[0m \u001b[0;32mNone\u001b[0m\u001b[0;34m:\u001b[0m\u001b[0;34m\u001b[0m\u001b[0;34m\u001b[0m\u001b[0m\n\u001b[0;32m-> 1600\u001b[0;31m                 \u001b[0mos\u001b[0m\u001b[0;34m.\u001b[0m\u001b[0mkill\u001b[0m\u001b[0;34m(\u001b[0m\u001b[0mself\u001b[0m\u001b[0;34m.\u001b[0m\u001b[0mpid\u001b[0m\u001b[0;34m,\u001b[0m \u001b[0msig\u001b[0m\u001b[0;34m)\u001b[0m\u001b[0;34m\u001b[0m\u001b[0;34m\u001b[0m\u001b[0m\n\u001b[0m\u001b[1;32m   1601\u001b[0m \u001b[0;34m\u001b[0m\u001b[0m\n\u001b[1;32m   1602\u001b[0m         \u001b[0;32mdef\u001b[0m \u001b[0mterminate\u001b[0m\u001b[0;34m(\u001b[0m\u001b[0mself\u001b[0m\u001b[0;34m)\u001b[0m\u001b[0;34m:\u001b[0m\u001b[0;34m\u001b[0m\u001b[0;34m\u001b[0m\u001b[0m\n",
      "\u001b[0;31mPermissionError\u001b[0m: [Errno 1] Operation not permitted"
     ]
    }
   ],
   "source": [
    "wifi.terminate()"
   ]
  },
  {
   "cell_type": "code",
   "execution_count": 19,
   "metadata": {},
   "outputs": [
    {
     "ename": "PermissionError",
     "evalue": "[Errno 1] Operation not permitted",
     "output_type": "error",
     "traceback": [
      "\u001b[0;31m---------------------------------------------------------------------------\u001b[0m",
      "\u001b[0;31mPermissionError\u001b[0m                           Traceback (most recent call last)",
      "\u001b[0;32m<ipython-input-19-9aed255ce892>\u001b[0m in \u001b[0;36m<module>\u001b[0;34m\u001b[0m\n\u001b[0;32m----> 1\u001b[0;31m \u001b[0mwifi\u001b[0m\u001b[0;34m.\u001b[0m\u001b[0mtcpdump_process\u001b[0m\u001b[0;34m.\u001b[0m\u001b[0msend_signal\u001b[0m\u001b[0;34m(\u001b[0m\u001b[0msignal\u001b[0m\u001b[0;34m.\u001b[0m\u001b[0mSIGTERM\u001b[0m\u001b[0;34m)\u001b[0m\u001b[0;34m\u001b[0m\u001b[0;34m\u001b[0m\u001b[0m\n\u001b[0m",
      "\u001b[0;32m/usr/lib/python3.6/subprocess.py\u001b[0m in \u001b[0;36msend_signal\u001b[0;34m(self, sig)\u001b[0m\n\u001b[1;32m   1598\u001b[0m             \u001b[0;31m# Skip signalling a process that we know has already died.\u001b[0m\u001b[0;34m\u001b[0m\u001b[0;34m\u001b[0m\u001b[0;34m\u001b[0m\u001b[0m\n\u001b[1;32m   1599\u001b[0m             \u001b[0;32mif\u001b[0m \u001b[0mself\u001b[0m\u001b[0;34m.\u001b[0m\u001b[0mreturncode\u001b[0m \u001b[0;32mis\u001b[0m \u001b[0;32mNone\u001b[0m\u001b[0;34m:\u001b[0m\u001b[0;34m\u001b[0m\u001b[0;34m\u001b[0m\u001b[0m\n\u001b[0;32m-> 1600\u001b[0;31m                 \u001b[0mos\u001b[0m\u001b[0;34m.\u001b[0m\u001b[0mkill\u001b[0m\u001b[0;34m(\u001b[0m\u001b[0mself\u001b[0m\u001b[0;34m.\u001b[0m\u001b[0mpid\u001b[0m\u001b[0;34m,\u001b[0m \u001b[0msig\u001b[0m\u001b[0;34m)\u001b[0m\u001b[0;34m\u001b[0m\u001b[0;34m\u001b[0m\u001b[0m\n\u001b[0m\u001b[1;32m   1601\u001b[0m \u001b[0;34m\u001b[0m\u001b[0m\n\u001b[1;32m   1602\u001b[0m         \u001b[0;32mdef\u001b[0m \u001b[0mterminate\u001b[0m\u001b[0;34m(\u001b[0m\u001b[0mself\u001b[0m\u001b[0;34m)\u001b[0m\u001b[0;34m:\u001b[0m\u001b[0;34m\u001b[0m\u001b[0;34m\u001b[0m\u001b[0m\n",
      "\u001b[0;31mPermissionError\u001b[0m: [Errno 1] Operation not permitted"
     ]
    }
   ],
   "source": [
    "wifi.tcpdump_process.send_signal(signal.SIGTERM)"
   ]
  },
  {
   "cell_type": "code",
   "execution_count": 23,
   "metadata": {},
   "outputs": [],
   "source": [
    "import signal,  os\n"
   ]
  },
  {
   "cell_type": "code",
   "execution_count": 25,
   "metadata": {},
   "outputs": [
    {
     "data": {
      "text/plain": [
       "256"
      ]
     },
     "execution_count": 25,
     "metadata": {},
     "output_type": "execute_result"
    }
   ],
   "source": [
    "os.system(\"sudo kill %s\" % (wifi.tcpdump_process.pid, ))"
   ]
  },
  {
   "cell_type": "code",
   "execution_count": null,
   "metadata": {},
   "outputs": [],
   "source": []
  }
 ],
 "metadata": {
  "kernelspec": {
   "display_name": "Python 3",
   "language": "python",
   "name": "python3"
  },
  "language_info": {
   "codemirror_mode": {
    "name": "ipython",
    "version": 3
   },
   "file_extension": ".py",
   "mimetype": "text/x-python",
   "name": "python",
   "nbconvert_exporter": "python",
   "pygments_lexer": "ipython3",
   "version": "3.6.9"
  }
 },
 "nbformat": 4,
 "nbformat_minor": 4
}
