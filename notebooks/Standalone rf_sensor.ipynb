{
 "cells": [
  {
   "cell_type": "code",
   "execution_count": null,
   "metadata": {},
   "outputs": [],
   "source": [
    "%matplotlib inline\n",
    "import sys\n",
    "import pandas as pd\n",
    "import numpy as np\n",
    "sys.path.append('../src/rf_sensor') #rf_sensor/src/rf_sensor folder path"
   ]
  },
  {
   "cell_type": "code",
   "execution_count": null,
   "metadata": {},
   "outputs": [],
   "source": [
    "from WiFiDevice import WiFiDevice"
   ]
  },
  {
   "cell_type": "markdown",
   "metadata": {},
   "source": [
    "# Running ifconfig and iwconfig as sudo\n",
    "\n",
    "It is recommended to modify sudoers to allow your user to run ifconfig, iwconfig and tcpdump as sudo without password. otherwise, calling functions that require sudo from notebook, does not work.\n",
    "\n",
    "To modify your sudoer\n",
    "\n",
    "```sudo visudo``` \n",
    "\n",
    "\n",
    "Go to the end of the file and add\n",
    "\n",
    "```your_user_name ALL=(root) NOPASSWD: /sbin/iwconfig, /sbin/ifconfig, /usr/sbin/tcpdump```\n",
    "\n",
    "replace your_user_name by the name of your user"
   ]
  },
  {
   "cell_type": "code",
   "execution_count": null,
   "metadata": {},
   "outputs": [],
   "source": [
    "# Init device\n",
    "wifi = WiFiDevice(iface='wlx1cbfce958ca7')"
   ]
  },
  {
   "cell_type": "markdown",
   "metadata": {},
   "source": [
    "# Starts channel hopper\n",
    "To verify monitor iwconfig info using \n",
    "\n",
    "```\n",
    "watch -n 0.1 sudo iwconfig \n",
    "```\n",
    "\n",
    "The frequency should be changing for the selected wireless interface"
   ]
  },
  {
   "cell_type": "code",
   "execution_count": null,
   "metadata": {},
   "outputs": [],
   "source": [
    "# start channel hopper\n",
    "wifi.chopper_start()"
   ]
  },
  {
   "cell_type": "markdown",
   "metadata": {},
   "source": [
    "# Tcpdump process starts\n",
    "System is now acquiring data\n",
    "To show data, you can use\n",
    "```\n",
    "wifi.read\n",
    "```\n",
    "to print the last line\n",
    "\n",
    "```\n",
    "wifi.read_start\n",
    "```\n",
    "to continuosly decode tcpdump messages into wifi.data, where all data is stored\n",
    "```\n",
    "wifi.sample\n",
    "```\n",
    "same as read_start, but wifi.data now just stores messages corresponding to the last sampling time (defined by wifi.ts)"
   ]
  },
  {
   "cell_type": "code",
   "execution_count": null,
   "metadata": {},
   "outputs": [],
   "source": [
    "wifi.tcpdump_start()"
   ]
  },
  {
   "cell_type": "markdown",
   "metadata": {},
   "source": [
    "## read"
   ]
  },
  {
   "cell_type": "code",
   "execution_count": null,
   "metadata": {},
   "outputs": [],
   "source": [
    "wifi.read()"
   ]
  },
  {
   "cell_type": "markdown",
   "metadata": {},
   "source": [
    "# read_start"
   ]
  },
  {
   "cell_type": "code",
   "execution_count": null,
   "metadata": {},
   "outputs": [],
   "source": [
    "wifi.read_start()"
   ]
  },
  {
   "cell_type": "code",
   "execution_count": null,
   "metadata": {},
   "outputs": [],
   "source": [
    "for datum in wifi.data:\n",
    "    print(datum)"
   ]
  },
  {
   "cell_type": "markdown",
   "metadata": {},
   "source": [
    "# sample"
   ]
  },
  {
   "cell_type": "code",
   "execution_count": null,
   "metadata": {},
   "outputs": [],
   "source": [
    "wifi.sample()"
   ]
  },
  {
   "cell_type": "code",
   "execution_count": null,
   "metadata": {},
   "outputs": [],
   "source": [
    "for datum in wifi.data:\n",
    "    print(datum)"
   ]
  },
  {
   "cell_type": "code",
   "execution_count": null,
   "metadata": {},
   "outputs": [],
   "source": [
    "len(wifi.data)"
   ]
  },
  {
   "cell_type": "markdown",
   "metadata": {},
   "source": [
    "# terminate\n",
    "to end processes, you can either use the wifi.x_process.terminate() when available. replace x by the name of the process <br/>\n",
    "for example\n",
    "```\n",
    "wifi.sample_process.terminate()\n",
    "```\n",
    "\n",
    "or \n",
    "```\n",
    "wifi.terminate\n",
    "```\n",
    "to end all processes\n"
   ]
  },
  {
   "cell_type": "code",
   "execution_count": null,
   "metadata": {},
   "outputs": [],
   "source": [
    "wifi.sample_alive()"
   ]
  },
  {
   "cell_type": "code",
   "execution_count": null,
   "metadata": {},
   "outputs": [],
   "source": [
    "wifi.sample_process.terminate()"
   ]
  },
  {
   "cell_type": "code",
   "execution_count": null,
   "metadata": {},
   "outputs": [],
   "source": [
    "wifi.sample_alive()"
   ]
  },
  {
   "cell_type": "code",
   "execution_count": null,
   "metadata": {},
   "outputs": [],
   "source": [
    "wifi.terminate()"
   ]
  },
  {
   "cell_type": "markdown",
   "metadata": {},
   "source": [
    "# WiFiDeviceSHM\n",
    "Inherits all methods from WiFiDevice, and additionally publishes data through SHM memory <br/>\n",
    "The data is a vector, of MAX_WIFI_LEN (defined in the .py file as 500) <br/>\n",
    "A dictionary (mac_dict) is used to decide the position of the signal intensity in the vector <br/>\n",
    "If update_dict is true (default), the dictionary is increased for each newly found mac_address"
   ]
  },
  {
   "cell_type": "code",
   "execution_count": 2,
   "metadata": {},
   "outputs": [],
   "source": [
    "%matplotlib inline\n",
    "import sys\n",
    "import pandas as pd\n",
    "import numpy as np\n",
    "sys.path.append('../src/rf_sensor') #rf_sensor/src/rf_sensor folder path"
   ]
  },
  {
   "cell_type": "code",
   "execution_count": 3,
   "metadata": {},
   "outputs": [],
   "source": [
    "from WiFiDevice_shm import WiFiDeviceSHM"
   ]
  },
  {
   "cell_type": "code",
   "execution_count": 4,
   "metadata": {},
   "outputs": [
    {
     "name": "stdout",
     "output_type": "stream",
     "text": [
      "sudo -S ifconfig wlx1cbfce958ca7 down    \tOK\n",
      "sudo -S ifconfig wlx1cbfce958ca7 up      \tOK\n",
      "sudo -S ifconfig wlx1cbfce958ca7 down    \tOK\n",
      "sudo -S iwconfig wlx1cbfce958ca7 mode monitor \tOK\n",
      "sudo -S ifconfig wlx1cbfce958ca7 up      \tOK\n",
      "sudo -S iwconfig wlx1cbfce958ca7 channel 1 \tOK\n",
      "\n",
      "Device Initialized\n",
      "shm_id=1001, mem_id=2981890\n",
      "pointer 140711594418176\n",
      "Channel Hopper Initialized\n",
      "tcpdump process initialized\n",
      "RSS messages stored at data\n",
      "Sampling every 1.000000 s\n"
     ]
    },
    {
     "data": {
      "text/plain": [
       "0"
      ]
     },
     "execution_count": 4,
     "metadata": {},
     "output_type": "execute_result"
    }
   ],
   "source": [
    "# Init device\n",
    "wifi = WiFiDeviceSHM(iface='wlx1cbfce958ca7')\n",
    "wifi.chopper_start()\n",
    "# start sampling\n",
    "wifi.sample()"
   ]
  },
  {
   "cell_type": "code",
   "execution_count": 13,
   "metadata": {},
   "outputs": [
    {
     "name": "stdout",
     "output_type": "stream",
     "text": [
      "[datetime.datetime(2020, 6, 3, 6, 37, 7, 337228), 2437, b'2e:b1:7f:e0:cd:1e', array([-53, -53])]\n",
      "[datetime.datetime(2020, 6, 3, 6, 37, 7, 444570), 2437, b'00:0a:79:b5:7e:0a', array([-61, -61])]\n",
      "[datetime.datetime(2020, 6, 3, 6, 37, 7, 460953), 2462, b'98:f1:99:b4:26:1e', array([-69, -69])]\n"
     ]
    }
   ],
   "source": [
    "for datum in wifi.data:\n",
    "    print(datum)"
   ]
  },
  {
   "cell_type": "code",
   "execution_count": 14,
   "metadata": {},
   "outputs": [
    {
     "name": "stdout",
     "output_type": "stream",
     "text": [
      "Sequence          :  12\n",
      "N access points   :  18\n",
      "data              :  [56.33333206176758, 53.0, 45.0, 47.0, 40.33333206176758, 63.0, 27.0, 67.0, 29.0, 29.0, 31.0, 35.0, 37.0, 35.0, 29.0, 29.0, 37.0, 29.0]\n",
      "mac address dictionary: \n",
      "b'04:92:26:6c:4e:98'\n",
      "b'50:c7:bf:a7:9a:73'\n",
      "b'10:6f:3f:84:7d:54'\n",
      "b'1c:b1:7f:e0:cd:1e'\n",
      "b'2e:b1:7f:e0:cd:1e'\n",
      "b'82:2e:75:6a:05:c6'\n",
      "b'98:f1:99:8b:57:52'\n",
      "b'00:23:b1:96:97:2d'\n",
      "b'34:3d:c4:48:5b:8f'\n",
      "b'98:f1:99:b4:26:1e'\n",
      "b'98:f1:99:8c:1f:ae'\n",
      "b'00:0a:79:b5:7e:0a'\n",
      "b'60:84:bd:1d:55:38'\n",
      "b'34:76:c5:8a:c7:0c'\n",
      "b'02:90:fe:ed:6d:22'\n",
      "b'00:90:fe:ed:6d:22'\n",
      "b'36:76:c5:9a:c7:0c'\n",
      "b'46:aa:c2:a8:ea:b8'\n"
     ]
    }
   ],
   "source": [
    "wifi.shm_print()"
   ]
  },
  {
   "cell_type": "code",
   "execution_count": null,
   "metadata": {},
   "outputs": [],
   "source": [
    "wifi.terminate()"
   ]
  },
  {
   "cell_type": "code",
   "execution_count": null,
   "metadata": {},
   "outputs": [],
   "source": []
  }
 ],
 "metadata": {
  "kernelspec": {
   "display_name": "Python 3",
   "language": "python",
   "name": "python3"
  },
  "language_info": {
   "codemirror_mode": {
    "name": "ipython",
    "version": 3
   },
   "file_extension": ".py",
   "mimetype": "text/x-python",
   "name": "python",
   "nbconvert_exporter": "python",
   "pygments_lexer": "ipython3",
   "version": "3.6.9"
  }
 },
 "nbformat": 4,
 "nbformat_minor": 4
}
