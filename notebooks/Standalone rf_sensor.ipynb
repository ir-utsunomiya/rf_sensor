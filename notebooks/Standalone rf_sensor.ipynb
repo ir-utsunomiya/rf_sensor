{
 "cells": [
  {
   "cell_type": "code",
   "execution_count": 1,
   "metadata": {},
   "outputs": [],
   "source": [
    "%matplotlib inline\n",
    "import sys\n",
    "import pandas as pd\n",
    "import numpy as np\n",
    "sys.path.append('../src/rf_sensor') #rf_sensor/src/rf_sensor folder path"
   ]
  },
  {
   "cell_type": "code",
   "execution_count": 2,
   "metadata": {},
   "outputs": [],
   "source": [
    "from WiFiDevice import WiFiDevice"
   ]
  },
  {
   "cell_type": "markdown",
   "metadata": {},
   "source": [
    "# Running ifconfig and iwconfig as sudo\n",
    "\n",
    "It is recommended to modify sudoers to allow your user to run ifconfig, iwconfig and tcpdump as sudo without password. otherwise, calling functions that require sudo from notebook, does not work.\n",
    "\n",
    "To modify your sudoer\n",
    "\n",
    "```sudo visudo``` \n",
    "\n",
    "\n",
    "Go to the end of the file and add\n",
    "\n",
    "```your_user_name ALL=(root) NOPASSWD: /sbin/iwconfig, /sbin/ifconfig, /usr/sbin/tcpdump```\n",
    "\n",
    "replace your_user_name by the name of your user"
   ]
  },
  {
   "cell_type": "code",
   "execution_count": 22,
   "metadata": {},
   "outputs": [
    {
     "name": "stdout",
     "output_type": "stream",
     "text": [
      "sudo -S ifconfig wlx1cbfce958ca7 down    \tOK\n",
      "sudo -S ifconfig wlx1cbfce958ca7 up      \tOK\n",
      "sudo -S ifconfig wlx1cbfce958ca7 down    \tOK\n",
      "sudo -S iwconfig wlx1cbfce958ca7 mode monitor \tOK\n",
      "sudo -S ifconfig wlx1cbfce958ca7 up      \tOK\n",
      "sudo -S iwconfig wlx1cbfce958ca7 channel 1 \tOK\n",
      "\n",
      "Device Initialized\n"
     ]
    }
   ],
   "source": [
    "# Init device\n",
    "wifi = WiFiDevice(iface='wlx1cbfce958ca7')"
   ]
  },
  {
   "cell_type": "markdown",
   "metadata": {},
   "source": [
    "# Starts channel hopper\n",
    "To verify monitor iwconfig info using \n",
    "\n",
    "```\n",
    "watch -n 0.1 sudo iwconfig \n",
    "```\n",
    "\n",
    "The frequency should be changing for the selected wireless interface"
   ]
  },
  {
   "cell_type": "code",
   "execution_count": 23,
   "metadata": {},
   "outputs": [
    {
     "name": "stdout",
     "output_type": "stream",
     "text": [
      "Channel Hopper Initialized\n"
     ]
    },
    {
     "data": {
      "text/plain": [
       "0"
      ]
     },
     "execution_count": 23,
     "metadata": {},
     "output_type": "execute_result"
    }
   ],
   "source": [
    "# start channel hopper\n",
    "wifi.chopper_start()"
   ]
  },
  {
   "cell_type": "markdown",
   "metadata": {},
   "source": [
    "# Tcpdump process starts\n",
    "System is now acquiring data\n",
    "To show data, you can use\n",
    "```\n",
    "wifi.read\n",
    "```\n",
    "to print the last line\n",
    "\n",
    "```\n",
    "wifi.read_start\n",
    "```\n",
    "to continuosly decode tcpdump messages into wifi.data, where all data is stored\n",
    "```\n",
    "wifi.sample\n",
    "```\n",
    "same as read_start, but wifi.data now just stores messages corresponding to the last sampling time (defined by wifi.ts)"
   ]
  },
  {
   "cell_type": "code",
   "execution_count": 24,
   "metadata": {},
   "outputs": [
    {
     "name": "stdout",
     "output_type": "stream",
     "text": [
      "tcpdump process initialized\n"
     ]
    },
    {
     "data": {
      "text/plain": [
       "0"
      ]
     },
     "execution_count": 24,
     "metadata": {},
     "output_type": "execute_result"
    }
   ],
   "source": [
    "wifi.tcpdump_start()"
   ]
  },
  {
   "cell_type": "markdown",
   "metadata": {},
   "source": [
    "## read"
   ]
  },
  {
   "cell_type": "code",
   "execution_count": 25,
   "metadata": {},
   "outputs": [
    {
     "name": "stdout",
     "output_type": "stream",
     "text": [
      "b'20:01:56.277951 1.0 Mb/s 2462 MHz 11b -59dBm signal -59dBm signal antenna 0 BSSID:10:6f:3f:84:7d:54 DA:ff:ff:ff:ff:ff:ff SA:10:6f:3f:84:7d:54 Beacon (hosino-dislabA_G) [1.0* 2.0* 5.5* 11.0* 18.0 24.0 36.0 54.0 Mbit] ESS CH: 11, PRIVACY\\n'\n"
     ]
    }
   ],
   "source": [
    "wifi.read()"
   ]
  },
  {
   "cell_type": "markdown",
   "metadata": {},
   "source": [
    "# read_start"
   ]
  },
  {
   "cell_type": "code",
   "execution_count": 26,
   "metadata": {},
   "outputs": [
    {
     "name": "stdout",
     "output_type": "stream",
     "text": [
      "RSS messages stored at data\n"
     ]
    },
    {
     "data": {
      "text/plain": [
       "0"
      ]
     },
     "execution_count": 26,
     "metadata": {},
     "output_type": "execute_result"
    }
   ],
   "source": [
    "wifi.read_start()"
   ]
  },
  {
   "cell_type": "code",
   "execution_count": 27,
   "metadata": {},
   "outputs": [
    {
     "name": "stdout",
     "output_type": "stream",
     "text": [
      "[datetime.datetime(2020, 5, 19, 11, 1, 58, 814083), 2462, b'50:c7:bf:a7:9a:73', array([-51, -51])]\n",
      "[datetime.datetime(2020, 5, 19, 11, 1, 58, 816768), 2412, b'50:c7:bf:a7:9a:73', array([-53, -53])]\n",
      "[datetime.datetime(2020, 5, 19, 11, 1, 58, 818904), 2412, b'04:92:26:6c:4e:98', array([-45, -45])]\n",
      "[datetime.datetime(2020, 5, 19, 11, 1, 58, 821026), 2412, b'50:c7:bf:a7:9a:73', array([-51, -51])]\n",
      "[datetime.datetime(2020, 5, 19, 11, 1, 58, 823143), 2412, b'04:92:26:6c:4e:98', array([-43, -43])]\n",
      "[datetime.datetime(2020, 5, 19, 11, 1, 58, 825267), 2412, b'50:c7:bf:a7:9a:73', array([-53, -53])]\n",
      "[datetime.datetime(2020, 5, 19, 11, 1, 58, 827390), 2437, b'2e:b1:7f:e0:cd:1e', array([-49, -49])]\n",
      "[datetime.datetime(2020, 5, 19, 11, 1, 58, 829534), 2437, b'1c:b1:7f:e0:cd:1e', array([-49, -49])]\n",
      "[datetime.datetime(2020, 5, 19, 11, 1, 58, 831687), 2437, b'2e:b1:7f:e0:cd:1e', array([-49, -49])]\n",
      "[datetime.datetime(2020, 5, 19, 11, 1, 58, 833807), 2437, b'1c:b1:7f:e0:cd:1e', array([-51, -51])]\n",
      "[datetime.datetime(2020, 5, 19, 11, 1, 58, 835956), 2437, b'60:84:bd:1d:55:38', array([-63, -63])]\n",
      "[datetime.datetime(2020, 5, 19, 11, 1, 58, 838082), 2437, b'2e:b1:7f:e0:cd:1e', array([-51, -51])]\n",
      "[datetime.datetime(2020, 5, 19, 11, 1, 58, 840221), 2437, b'1c:b1:7f:e0:cd:1e', array([-49, -49])]\n",
      "[datetime.datetime(2020, 5, 19, 11, 1, 58, 842342), 2437, b'2e:b1:7f:e0:cd:1e', array([-49, -49])]\n",
      "[datetime.datetime(2020, 5, 19, 11, 1, 58, 844463), 2462, b'34:3d:c4:48:5b:8f', array([-63, -63])]\n",
      "[datetime.datetime(2020, 5, 19, 11, 1, 58, 846587), 2462, b'10:6f:3f:84:7d:54', array([-55, -55])]\n",
      "[datetime.datetime(2020, 5, 19, 11, 1, 58, 848739), 2462, b'98:f1:99:8c:1f:ae', array([-67, -67])]\n",
      "[datetime.datetime(2020, 5, 19, 11, 1, 58, 850875), 2462, b'10:6f:3f:84:7d:54', array([-55, -55])]\n",
      "[datetime.datetime(2020, 5, 19, 11, 1, 58, 852990), 2462, b'98:f1:99:8c:1f:ae', array([-65, -65])]\n",
      "[datetime.datetime(2020, 5, 19, 11, 1, 58, 855103), 2412, b'04:92:26:6c:4e:98', array([-45, -45])]\n",
      "[datetime.datetime(2020, 5, 19, 11, 1, 58, 857219), 2412, b'50:c7:bf:a7:9a:73', array([-51, -51])]\n",
      "[datetime.datetime(2020, 5, 19, 11, 1, 58, 859343), 2412, b'50:c7:bf:a7:9a:73', array([-49, -49])]\n",
      "[datetime.datetime(2020, 5, 19, 11, 1, 58, 861452), 2412, b'04:92:26:6c:4e:98', array([-45, -45])]\n",
      "[datetime.datetime(2020, 5, 19, 11, 1, 58, 863568), 2412, b'36:76:c5:9a:c7:0c', array([-69, -69])]\n",
      "[datetime.datetime(2020, 5, 19, 11, 1, 58, 865711), 2412, b'50:c7:bf:a7:9a:73', array([-51, -51])]\n",
      "[datetime.datetime(2020, 5, 19, 11, 1, 58, 867853), 2437, b'1c:b1:7f:e0:cd:1e', array([-49, -49])]\n",
      "[datetime.datetime(2020, 5, 19, 11, 1, 58, 869983), 2437, b'2e:b1:7f:e0:cd:1e', array([-49, -49])]\n",
      "[datetime.datetime(2020, 5, 19, 11, 1, 58, 872108), 2437, b'1c:b1:7f:e0:cd:1e', array([-49, -49])]\n",
      "[datetime.datetime(2020, 5, 19, 11, 1, 58, 874234), 2437, b'2e:b1:7f:e0:cd:1e', array([-51, -51])]\n",
      "[datetime.datetime(2020, 5, 19, 11, 1, 58, 876367), 2437, b'1c:b1:7f:e0:cd:1e', array([-49, -49])]\n",
      "[datetime.datetime(2020, 5, 19, 11, 1, 58, 878501), 2437, b'60:84:bd:1d:55:38', array([-61, -61])]\n",
      "[datetime.datetime(2020, 5, 19, 11, 1, 58, 880629), 2437, b'2e:b1:7f:e0:cd:1e', array([-51, -51])]\n",
      "[datetime.datetime(2020, 5, 19, 11, 1, 58, 882755), 2437, b'1c:b1:7f:e0:cd:1e', array([-53, -53])]\n",
      "[datetime.datetime(2020, 5, 19, 11, 1, 58, 884883), 2462, b'34:3d:c4:48:5b:8f', array([-63, -63])]\n",
      "[datetime.datetime(2020, 5, 19, 11, 1, 58, 887005), 2462, b'98:f1:99:8c:1f:ae', array([-67, -67])]\n",
      "[datetime.datetime(2020, 5, 19, 11, 1, 58, 889133), 2462, b'10:6f:3f:84:7d:54', array([-57, -57])]\n",
      "[datetime.datetime(2020, 5, 19, 11, 1, 58, 891262), 2462, b'34:3d:c4:48:5b:8f', array([-61, -61])]\n",
      "[datetime.datetime(2020, 5, 19, 11, 1, 58, 893401), 2462, b'98:f1:99:8c:1f:ae', array([-65, -65])]\n",
      "[datetime.datetime(2020, 5, 19, 11, 1, 58, 895526), 2462, b'10:6f:3f:84:7d:54', array([-57, -57])]\n",
      "[datetime.datetime(2020, 5, 19, 11, 1, 58, 897656), 2462, b'34:3d:c4:48:5b:8f', array([-67, -67])]\n",
      "[datetime.datetime(2020, 5, 19, 11, 1, 58, 899812), 2412, b'50:c7:bf:a7:9a:73', array([-51, -51])]\n",
      "[datetime.datetime(2020, 5, 19, 11, 1, 58, 901949), 2412, b'04:92:26:6c:4e:98', array([-45, -45])]\n",
      "[datetime.datetime(2020, 5, 19, 11, 1, 58, 904076), 2412, b'50:c7:bf:a7:9a:73', array([-53, -53])]\n",
      "[datetime.datetime(2020, 5, 19, 11, 1, 58, 906200), 2412, b'04:92:26:6c:4e:98', array([-45, -45])]\n",
      "[datetime.datetime(2020, 5, 19, 11, 1, 58, 908329), 2412, b'50:c7:bf:a7:9a:73', array([-53, -53])]\n",
      "[datetime.datetime(2020, 5, 19, 11, 1, 58, 910458), 2437, b'1c:b1:7f:e0:cd:1e', array([-49, -49])]\n",
      "[datetime.datetime(2020, 5, 19, 11, 1, 58, 920751), 2437, b'60:84:bd:1d:55:38', array([-63, -63])]\n",
      "[datetime.datetime(2020, 5, 19, 11, 1, 58, 960587), 2437, b'2e:b1:7f:e0:cd:1e', array([-51, -51])]\n",
      "[datetime.datetime(2020, 5, 19, 11, 1, 59, 12722), 2437, b'1c:b1:7f:e0:cd:1e', array([-49, -49])]\n",
      "[datetime.datetime(2020, 5, 19, 11, 1, 59, 64063), 2437, b'2e:b1:7f:e0:cd:1e', array([-49, -49])]\n",
      "[datetime.datetime(2020, 5, 19, 11, 1, 59, 115130), 2437, b'1c:b1:7f:e0:cd:1e', array([-51, -51])]\n",
      "[datetime.datetime(2020, 5, 19, 11, 1, 59, 165384), 2437, b'2e:b1:7f:e0:cd:1e', array([-51, -51])]\n"
     ]
    }
   ],
   "source": [
    "for datum in wifi.data:\n",
    "    print(datum)"
   ]
  },
  {
   "cell_type": "markdown",
   "metadata": {},
   "source": [
    "# sample"
   ]
  },
  {
   "cell_type": "code",
   "execution_count": 28,
   "metadata": {},
   "outputs": [
    {
     "name": "stdout",
     "output_type": "stream",
     "text": [
      "Sampling every 1.000000 s\n"
     ]
    },
    {
     "data": {
      "text/plain": [
       "0"
      ]
     },
     "execution_count": 28,
     "metadata": {},
     "output_type": "execute_result"
    }
   ],
   "source": [
    "wifi.sample()"
   ]
  },
  {
   "cell_type": "code",
   "execution_count": 62,
   "metadata": {},
   "outputs": [
    {
     "name": "stdout",
     "output_type": "stream",
     "text": [
      "[datetime.datetime(2020, 5, 19, 11, 42, 47, 574003), 2437, b'2e:b1:7f:e0:cd:1e', array([-49, -49])]\n",
      "[datetime.datetime(2020, 5, 19, 11, 42, 47, 626161), 2437, b'1c:b1:7f:e0:cd:1e', array([-51, -51])]\n",
      "[datetime.datetime(2020, 5, 19, 11, 42, 47, 676399), 2437, b'2e:b1:7f:e0:cd:1e', array([-47, -47])]\n",
      "[datetime.datetime(2020, 5, 19, 11, 42, 47, 746651), 2462, b'10:6f:3f:84:7d:54', array([-55, -55])]\n",
      "[datetime.datetime(2020, 5, 19, 11, 42, 47, 799836), 2462, b'98:f1:99:8c:1f:ae', array([-65, -65])]\n",
      "[datetime.datetime(2020, 5, 19, 11, 42, 47, 859916), 2462, b'10:6f:3f:84:7d:54', array([-53, -53])]\n",
      "[datetime.datetime(2020, 5, 19, 11, 42, 47, 876100), 2462, b'34:3d:c4:48:5b:8f', array([-71, -71])]\n",
      "[datetime.datetime(2020, 5, 19, 11, 42, 47, 902239), 2462, b'98:f1:99:8c:1f:ae', array([-65, -65])]\n",
      "[datetime.datetime(2020, 5, 19, 11, 42, 47, 951430), 2462, b'10:6f:3f:84:7d:54', array([-57, -57])]\n",
      "[datetime.datetime(2020, 5, 19, 11, 42, 48, 4637), 2462, b'98:f1:99:8c:1f:ae', array([-67, -67])]\n"
     ]
    }
   ],
   "source": [
    "for datum in wifi.data:\n",
    "    print(datum)"
   ]
  },
  {
   "cell_type": "code",
   "execution_count": 50,
   "metadata": {},
   "outputs": [
    {
     "data": {
      "text/plain": [
       "3"
      ]
     },
     "execution_count": 50,
     "metadata": {},
     "output_type": "execute_result"
    }
   ],
   "source": [
    "len(wifi.data)"
   ]
  },
  {
   "cell_type": "markdown",
   "metadata": {},
   "source": [
    "# terminate\n",
    "to end processes, you can either use the wifi.x_process.terminate() when available. replace x by the name of the process <br/>\n",
    "for example\n",
    "```\n",
    "wifi.sample_process.terminate()\n",
    "```\n",
    "\n",
    "or \n",
    "```\n",
    "wifi.terminate\n",
    "```\n",
    "to end all processes\n"
   ]
  },
  {
   "cell_type": "code",
   "execution_count": 64,
   "metadata": {},
   "outputs": [
    {
     "data": {
      "text/plain": [
       "True"
      ]
     },
     "execution_count": 64,
     "metadata": {},
     "output_type": "execute_result"
    }
   ],
   "source": [
    "wifi.sample_alive()"
   ]
  },
  {
   "cell_type": "code",
   "execution_count": 65,
   "metadata": {},
   "outputs": [],
   "source": [
    "wifi.sample_process.terminate()"
   ]
  },
  {
   "cell_type": "code",
   "execution_count": 66,
   "metadata": {},
   "outputs": [
    {
     "data": {
      "text/plain": [
       "False"
      ]
     },
     "execution_count": 66,
     "metadata": {},
     "output_type": "execute_result"
    }
   ],
   "source": [
    "wifi.sample_alive()"
   ]
  },
  {
   "cell_type": "code",
   "execution_count": 67,
   "metadata": {},
   "outputs": [
    {
     "name": "stdout",
     "output_type": "stream",
     "text": [
      "Terminating Processes\n",
      "Terminating read\n",
      "Terminating chopper\n",
      "Terminating tcpdump\n",
      "Could not kill the process, please try \n",
      "\n",
      "sudo kill -9 11281\n",
      "\n"
     ]
    }
   ],
   "source": [
    "wifi.terminate()"
   ]
  },
  {
   "cell_type": "markdown",
   "metadata": {},
   "source": [
    "# WiFiDeviceSHM\n",
    "Inherits all methods from WiFiDevice, and additionally publishes data through SHM memory <br/>\n",
    "The data is a vector, of MAX_WIFI_LEN (defined in the .py file as 500) <br/>\n",
    "A dictionary (mac_dict) is used to decide the position of the signal intensity in the vector <br/>\n",
    "If update_dict is true (default), the dictionary is increased for each newly found mac_address"
   ]
  },
  {
   "cell_type": "code",
   "execution_count": 1,
   "metadata": {},
   "outputs": [],
   "source": [
    "%matplotlib inline\n",
    "import sys\n",
    "import pandas as pd\n",
    "import numpy as np\n",
    "sys.path.append('../src/rf_sensor') #rf_sensor/src/rf_sensor folder path"
   ]
  },
  {
   "cell_type": "code",
   "execution_count": 2,
   "metadata": {},
   "outputs": [],
   "source": [
    "from WiFiDevice_shm import WiFiDeviceSHM"
   ]
  },
  {
   "cell_type": "code",
   "execution_count": 3,
   "metadata": {},
   "outputs": [
    {
     "name": "stdout",
     "output_type": "stream",
     "text": [
      "sudo -S ifconfig wlx1cbfce958ca7 down    \tOK\n",
      "sudo -S ifconfig wlx1cbfce958ca7 up      \tOK\n",
      "sudo -S ifconfig wlx1cbfce958ca7 down    \tOK\n",
      "sudo -S iwconfig wlx1cbfce958ca7 mode monitor \tOK\n",
      "sudo -S ifconfig wlx1cbfce958ca7 up      \tOK\n",
      "sudo -S iwconfig wlx1cbfce958ca7 channel 1 \tOK\n",
      "\n",
      "Device Initialized\n",
      "shm_id=1001, mem_id=393259\n",
      "pointer 140019081297920\n",
      "Channel Hopper Initialized\n",
      "tcpdump process initialized\n",
      "RSS messages stored at data\n",
      "Sampling every 1.000000 s\n"
     ]
    },
    {
     "data": {
      "text/plain": [
       "0"
      ]
     },
     "execution_count": 3,
     "metadata": {},
     "output_type": "execute_result"
    }
   ],
   "source": [
    "# Init device\n",
    "wifi = WiFiDeviceSHM(iface='wlx1cbfce958ca7')\n",
    "wifi.chopper_start()\n",
    "# start sampling\n",
    "wifi.sample()"
   ]
  },
  {
   "cell_type": "code",
   "execution_count": 4,
   "metadata": {},
   "outputs": [
    {
     "name": "stdout",
     "output_type": "stream",
     "text": [
      "[datetime.datetime(2020, 5, 20, 12, 36, 33, 745685), 2412, b'04:92:26:6c:4e:98', array([-41, -41])]\n",
      "[datetime.datetime(2020, 5, 20, 12, 36, 33, 764788), 2412, b'10:6f:3f:84:7d:54', array([-53, -53])]\n",
      "[datetime.datetime(2020, 5, 20, 12, 36, 33, 803062), 2412, b'34:76:c5:8a:c7:0c', array([-67, -67])]\n",
      "[datetime.datetime(2020, 5, 20, 12, 36, 33, 848008), 2412, b'04:92:26:6c:4e:98', array([-37, -37])]\n",
      "[datetime.datetime(2020, 5, 20, 12, 36, 33, 867849), 2412, b'10:6f:3f:84:7d:54', array([-57, -57])]\n",
      "[datetime.datetime(2020, 5, 20, 12, 36, 33, 941159), 2437, b'2e:b1:7f:e0:cd:1e', array([-53, -53])]\n",
      "[datetime.datetime(2020, 5, 20, 12, 36, 33, 993304), 2437, b'1c:b1:7f:e0:cd:1e', array([-53, -53])]\n",
      "[datetime.datetime(2020, 5, 20, 12, 36, 34, 43557), 2437, b'2e:b1:7f:e0:cd:1e', array([-53, -53])]\n",
      "[datetime.datetime(2020, 5, 20, 12, 36, 34, 95700), 2437, b'1c:b1:7f:e0:cd:1e', array([-51, -51])]\n",
      "[datetime.datetime(2020, 5, 20, 12, 36, 34, 147444), 2437, b'2e:b1:7f:e0:cd:1e', array([-53, -53])]\n"
     ]
    }
   ],
   "source": [
    "for datum in wifi.data:\n",
    "    print(datum)"
   ]
  },
  {
   "cell_type": "code",
   "execution_count": 5,
   "metadata": {},
   "outputs": [
    {
     "name": "stdout",
     "output_type": "stream",
     "text": [
      "Sequence          :  0\n",
      "N access points   :  8\n",
      "data              :  [61.0, 45.0, 33.0, 47.5, 47.66666793823242, 61.0, 38.33333206176758, 37.0]\n",
      "mac address dictionary: \n",
      "b'04:92:26:6c:4e:98'\n",
      "b'10:6f:3f:84:7d:54'\n",
      "b'34:76:c5:8a:c7:0c'\n",
      "b'2e:b1:7f:e0:cd:1e'\n",
      "b'1c:b1:7f:e0:cd:1e'\n",
      "b'50:c7:bf:a7:9a:73'\n",
      "b'98:f1:99:8c:1f:ae'\n",
      "b'34:3d:c4:48:5b:8f'\n"
     ]
    }
   ],
   "source": [
    "wifi.shm_print()"
   ]
  }
 ],
 "metadata": {
  "kernelspec": {
   "display_name": "Python 3",
   "language": "python",
   "name": "python3"
  },
  "language_info": {
   "codemirror_mode": {
    "name": "ipython",
    "version": 3
   },
   "file_extension": ".py",
   "mimetype": "text/x-python",
   "name": "python",
   "nbconvert_exporter": "python",
   "pygments_lexer": "ipython3",
   "version": "3.6.9"
  }
 },
 "nbformat": 4,
 "nbformat_minor": 4
}
