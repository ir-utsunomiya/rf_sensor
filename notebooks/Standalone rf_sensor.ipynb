{
 "cells": [
  {
   "cell_type": "code",
   "execution_count": 1,
   "metadata": {},
   "outputs": [],
   "source": [
    "%matplotlib inline\n",
    "import sys\n",
    "import pandas as pd\n",
    "import numpy as np\n",
    "sys.path.append('../src/rf_sensor') #rf_sensor/src/rf_sensor folder path"
   ]
  },
  {
   "cell_type": "code",
   "execution_count": 2,
   "metadata": {},
   "outputs": [],
   "source": [
    "from WiFiDevice import WiFiDevice"
   ]
  },
  {
   "cell_type": "markdown",
   "metadata": {},
   "source": [
    "# Running ifconfig and iwconfig as sudo\n",
    "\n",
    "It is recommended to modify sudoers to allow your user to run ifconfig, iwconfig and tcpdump as sudo without password. otherwise, calling functions that require sudo from notebook, does not work.\n",
    "\n",
    "To modify your sudoer\n",
    "\n",
    "```sudo visudo``` \n",
    "\n",
    "\n",
    "Go to the end of the file and add\n",
    "\n",
    "```your_user_name ALL=(root) NOPASSWD: /sbin/iwconfig, /sbin/ifconfig, /usr/sbin/tcpdump```\n",
    "\n",
    "replace your_user_name by the name of your user"
   ]
  },
  {
   "cell_type": "code",
   "execution_count": 3,
   "metadata": {},
   "outputs": [
    {
     "name": "stdout",
     "output_type": "stream",
     "text": [
      "sudo -S ifconfig wlx1cbfce958ca7 down    \tOK\n",
      "sudo -S ifconfig wlx1cbfce958ca7 up      \tOK\n",
      "sudo -S ifconfig wlx1cbfce958ca7 down    \tOK\n",
      "sudo -S iwconfig wlx1cbfce958ca7 mode monitor \tOK\n",
      "sudo -S ifconfig wlx1cbfce958ca7 up      \tOK\n",
      "sudo -S iwconfig wlx1cbfce958ca7 channel 1 \tOK\n",
      "\n",
      "Device Initialized\n"
     ]
    }
   ],
   "source": [
    "# Init device\n",
    "wifi = WiFiDevice(iface='wlx1cbfce958ca7')"
   ]
  },
  {
   "cell_type": "markdown",
   "metadata": {},
   "source": [
    "# Starts channel hopper\n",
    "To verify monitor iwconfig info using \n",
    "\n",
    "```\n",
    "watch -n 0.1 sudo iwconfig \n",
    "```\n",
    "\n",
    "The frequency should be changing for the selected wireless interface"
   ]
  },
  {
   "cell_type": "code",
   "execution_count": 4,
   "metadata": {},
   "outputs": [
    {
     "name": "stdout",
     "output_type": "stream",
     "text": [
      "Channel Hopper Initialized\n"
     ]
    },
    {
     "data": {
      "text/plain": [
       "0"
      ]
     },
     "execution_count": 4,
     "metadata": {},
     "output_type": "execute_result"
    }
   ],
   "source": [
    "# start channel hopper\n",
    "wifi.chopper_start()"
   ]
  },
  {
   "cell_type": "markdown",
   "metadata": {},
   "source": [
    "# Tcpdump process starts\n",
    "System is now acquiring data\n",
    "To show data, you can use\n",
    "```\n",
    "wifi.read\n",
    "```\n",
    "to print the last line\n",
    "\n",
    "```\n",
    "wifi.read_start\n",
    "```\n",
    "to continuosly decode tcpdump messages into wifi.data, where all data is stored\n",
    "```\n",
    "wifi.sample\n",
    "```\n",
    "same as read_start, but wifi.data now just stores messages corresponding to the last sampling time (defined by wifi.ts)"
   ]
  },
  {
   "cell_type": "code",
   "execution_count": 5,
   "metadata": {},
   "outputs": [
    {
     "name": "stdout",
     "output_type": "stream",
     "text": [
      "tcpdump process initialized\n"
     ]
    },
    {
     "data": {
      "text/plain": [
       "0"
      ]
     },
     "execution_count": 5,
     "metadata": {},
     "output_type": "execute_result"
    }
   ],
   "source": [
    "wifi.tcpdump_start()"
   ]
  },
  {
   "cell_type": "markdown",
   "metadata": {},
   "source": [
    "## read"
   ]
  },
  {
   "cell_type": "code",
   "execution_count": 6,
   "metadata": {},
   "outputs": [
    {
     "name": "stdout",
     "output_type": "stream",
     "text": [
      "b'15:04:19.225472 1.0 Mb/s 2437 MHz 11b -71dBm signal -71dBm signal antenna 0 BSSID:60:84:bd:1d:55:38 DA:ff:ff:ff:ff:ff:ff SA:60:84:bd:1d:55:38 Beacon (Buffalo-G-5538) [1.0* 2.0* 5.5* 11.0* 9.0 18.0 36.0 54.0 Mbit] ESS CH: 6, PRIVACY\\n'\n"
     ]
    }
   ],
   "source": [
    "wifi.read()"
   ]
  },
  {
   "cell_type": "markdown",
   "metadata": {},
   "source": [
    "# read_start"
   ]
  },
  {
   "cell_type": "code",
   "execution_count": 7,
   "metadata": {},
   "outputs": [
    {
     "name": "stdout",
     "output_type": "stream",
     "text": [
      "RSS messages stored at data\n"
     ]
    },
    {
     "data": {
      "text/plain": [
       "0"
      ]
     },
     "execution_count": 7,
     "metadata": {},
     "output_type": "execute_result"
    }
   ],
   "source": [
    "wifi.read_start()"
   ]
  },
  {
   "cell_type": "code",
   "execution_count": 8,
   "metadata": {},
   "outputs": [
    {
     "name": "stdout",
     "output_type": "stream",
     "text": [
      "[datetime.datetime(2020, 5, 19, 6, 4, 19, 997500), 2437, b'2e:b1:7f:e0:cd:1e', array([-59, -59])]\n",
      "[datetime.datetime(2020, 5, 19, 6, 4, 20, 180), 2437, b'1c:b1:7f:e0:cd:1e', array([-57, -57])]\n",
      "[datetime.datetime(2020, 5, 19, 6, 4, 20, 2311), 2437, b'2e:b1:7f:e0:cd:1e', array([-55, -55])]\n",
      "[datetime.datetime(2020, 5, 19, 6, 4, 20, 4468), 2437, b'1c:b1:7f:e0:cd:1e', array([-57, -57])]\n",
      "[datetime.datetime(2020, 5, 19, 6, 4, 20, 6615), 2462, b'34:3d:c4:48:5b:8f', array([-67, -67])]\n",
      "[datetime.datetime(2020, 5, 19, 6, 4, 20, 8733), 2462, b'34:3d:c4:48:5b:8f', array([-63, -63])]\n",
      "[datetime.datetime(2020, 5, 19, 6, 4, 20, 10860), 2462, b'34:3d:c4:48:5b:8f', array([-67, -67])]\n",
      "[datetime.datetime(2020, 5, 19, 6, 4, 20, 12991), 2462, b'36:76:c5:9a:c7:0c', array([-65, -65])]\n",
      "[datetime.datetime(2020, 5, 19, 6, 4, 20, 15110), 2412, b'04:92:26:6c:4e:98', array([-47, -47])]\n",
      "[datetime.datetime(2020, 5, 19, 6, 4, 20, 17239), 2412, b'50:c7:bf:a7:9a:73', array([-41, -41])]\n",
      "[datetime.datetime(2020, 5, 19, 6, 4, 20, 19350), 2412, b'36:76:c5:9a:c7:0c', array([-65, -65])]\n",
      "[datetime.datetime(2020, 5, 19, 6, 4, 20, 21478), 2412, b'04:92:26:6c:4e:98', array([-45, -45])]\n",
      "[datetime.datetime(2020, 5, 19, 6, 4, 20, 23591), 2412, b'50:c7:bf:a7:9a:73', array([-41, -41])]\n",
      "[datetime.datetime(2020, 5, 19, 6, 4, 20, 25704), 2412, b'34:76:c5:8a:c7:0c', array([-67, -67])]\n",
      "[datetime.datetime(2020, 5, 19, 6, 4, 20, 27848), 2412, b'04:92:26:6c:4e:98', array([-45, -45])]\n",
      "[datetime.datetime(2020, 5, 19, 6, 4, 20, 80471), 2412, b'50:c7:bf:a7:9a:73', array([-43, -43])]\n",
      "[datetime.datetime(2020, 5, 19, 6, 4, 20, 120581), 2412, b'04:92:26:6c:4e:98', array([-47, -47])]\n"
     ]
    }
   ],
   "source": [
    "for datum in wifi.data:\n",
    "    print(datum)"
   ]
  },
  {
   "cell_type": "markdown",
   "metadata": {},
   "source": [
    "# sample"
   ]
  },
  {
   "cell_type": "code",
   "execution_count": 9,
   "metadata": {},
   "outputs": [
    {
     "name": "stdout",
     "output_type": "stream",
     "text": [
      "Sampling every 1.000000 s\n"
     ]
    },
    {
     "data": {
      "text/plain": [
       "0"
      ]
     },
     "execution_count": 9,
     "metadata": {},
     "output_type": "execute_result"
    }
   ],
   "source": [
    "wifi.sample()"
   ]
  },
  {
   "cell_type": "code",
   "execution_count": 10,
   "metadata": {},
   "outputs": [
    {
     "name": "stdout",
     "output_type": "stream",
     "text": [
      "[datetime.datetime(2020, 5, 19, 6, 4, 19, 997500), 2437, b'2e:b1:7f:e0:cd:1e', array([-59, -59])]\n",
      "[datetime.datetime(2020, 5, 19, 6, 4, 20, 180), 2437, b'1c:b1:7f:e0:cd:1e', array([-57, -57])]\n",
      "[datetime.datetime(2020, 5, 19, 6, 4, 20, 2311), 2437, b'2e:b1:7f:e0:cd:1e', array([-55, -55])]\n",
      "[datetime.datetime(2020, 5, 19, 6, 4, 20, 4468), 2437, b'1c:b1:7f:e0:cd:1e', array([-57, -57])]\n",
      "[datetime.datetime(2020, 5, 19, 6, 4, 20, 6615), 2462, b'34:3d:c4:48:5b:8f', array([-67, -67])]\n",
      "[datetime.datetime(2020, 5, 19, 6, 4, 20, 8733), 2462, b'34:3d:c4:48:5b:8f', array([-63, -63])]\n",
      "[datetime.datetime(2020, 5, 19, 6, 4, 20, 10860), 2462, b'34:3d:c4:48:5b:8f', array([-67, -67])]\n",
      "[datetime.datetime(2020, 5, 19, 6, 4, 20, 12991), 2462, b'36:76:c5:9a:c7:0c', array([-65, -65])]\n",
      "[datetime.datetime(2020, 5, 19, 6, 4, 20, 15110), 2412, b'04:92:26:6c:4e:98', array([-47, -47])]\n",
      "[datetime.datetime(2020, 5, 19, 6, 4, 20, 17239), 2412, b'50:c7:bf:a7:9a:73', array([-41, -41])]\n",
      "[datetime.datetime(2020, 5, 19, 6, 4, 20, 19350), 2412, b'36:76:c5:9a:c7:0c', array([-65, -65])]\n",
      "[datetime.datetime(2020, 5, 19, 6, 4, 20, 21478), 2412, b'04:92:26:6c:4e:98', array([-45, -45])]\n",
      "[datetime.datetime(2020, 5, 19, 6, 4, 20, 23591), 2412, b'50:c7:bf:a7:9a:73', array([-41, -41])]\n",
      "[datetime.datetime(2020, 5, 19, 6, 4, 20, 25704), 2412, b'34:76:c5:8a:c7:0c', array([-67, -67])]\n",
      "[datetime.datetime(2020, 5, 19, 6, 4, 20, 27848), 2412, b'04:92:26:6c:4e:98', array([-45, -45])]\n",
      "[datetime.datetime(2020, 5, 19, 6, 4, 20, 80471), 2412, b'50:c7:bf:a7:9a:73', array([-43, -43])]\n",
      "[datetime.datetime(2020, 5, 19, 6, 4, 20, 120581), 2412, b'04:92:26:6c:4e:98', array([-47, -47])]\n",
      "[datetime.datetime(2020, 5, 19, 6, 4, 20, 183646), 2437, b'2e:b1:7f:e0:cd:1e', array([-55, -55])]\n",
      "[datetime.datetime(2020, 5, 19, 6, 4, 20, 232286), 2437, b'1c:b1:7f:e0:cd:1e', array([-57, -57])]\n",
      "[datetime.datetime(2020, 5, 19, 6, 4, 20, 283948), 2437, b'2e:b1:7f:e0:cd:1e', array([-55, -55])]\n",
      "[datetime.datetime(2020, 5, 19, 6, 4, 20, 334686), 2437, b'1c:b1:7f:e0:cd:1e', array([-57, -57])]\n",
      "[datetime.datetime(2020, 5, 19, 6, 4, 20, 384978), 2437, b'2e:b1:7f:e0:cd:1e', array([-57, -57])]\n",
      "[datetime.datetime(2020, 5, 19, 6, 4, 20, 459009), 2437, b'1c:b1:7f:e0:cd:1e', array([-55, -55])]\n",
      "[datetime.datetime(2020, 5, 19, 6, 4, 20, 487361), 2437, b'2e:b1:7f:e0:cd:1e', array([-57, -57])]\n",
      "[datetime.datetime(2020, 5, 19, 6, 4, 20, 716137), 2462, b'34:3d:c4:48:5b:8f', array([-69, -69])]\n",
      "[datetime.datetime(2020, 5, 19, 6, 4, 20, 899677), 2412, b'50:c7:bf:a7:9a:73', array([-41, -41])]\n",
      "[datetime.datetime(2020, 5, 19, 6, 4, 20, 926483), 2412, b'34:76:c5:8a:c7:0c', array([-65, -65])]\n",
      "[datetime.datetime(2020, 5, 19, 6, 4, 20, 930008), 2412, b'36:76:c5:9a:c7:0c', array([-69, -69])]\n",
      "[datetime.datetime(2020, 5, 19, 6, 4, 20, 939766), 2412, b'04:92:26:6c:4e:98', array([-45, -45])]\n"
     ]
    }
   ],
   "source": [
    "for datum in wifi.data:\n",
    "    print(datum)"
   ]
  },
  {
   "cell_type": "markdown",
   "metadata": {},
   "source": [
    "# terminate\n",
    "to end processes, you can either use the wifi.x_process.terminate() when available. replace x by the name of the process <br/>\n",
    "for example\n",
    "```\n",
    "wifi.sample_process.terminate()\n",
    "```\n",
    "\n",
    "or \n",
    "```\n",
    "wifi.terminate\n",
    "```\n",
    "to end all processes\n"
   ]
  },
  {
   "cell_type": "code",
   "execution_count": 11,
   "metadata": {},
   "outputs": [
    {
     "data": {
      "text/plain": [
       "True"
      ]
     },
     "execution_count": 11,
     "metadata": {},
     "output_type": "execute_result"
    }
   ],
   "source": [
    "wifi.sample_alive()"
   ]
  },
  {
   "cell_type": "code",
   "execution_count": 12,
   "metadata": {},
   "outputs": [],
   "source": [
    "wifi.sample_process.terminate()"
   ]
  },
  {
   "cell_type": "code",
   "execution_count": 13,
   "metadata": {},
   "outputs": [
    {
     "data": {
      "text/plain": [
       "False"
      ]
     },
     "execution_count": 13,
     "metadata": {},
     "output_type": "execute_result"
    }
   ],
   "source": [
    "wifi.sample_alive()"
   ]
  },
  {
   "cell_type": "code",
   "execution_count": 14,
   "metadata": {},
   "outputs": [
    {
     "name": "stdout",
     "output_type": "stream",
     "text": [
      "Terminating Processes\n",
      "Terminating read\n",
      "Terminating chopper\n",
      "Terminating tcpdump\n",
      "Could not kill the process, please try \n",
      "\n",
      "sudo kill -9 18775\n",
      "\n"
     ]
    }
   ],
   "source": [
    "wifi.terminate()"
   ]
  },
  {
   "cell_type": "code",
   "execution_count": null,
   "metadata": {},
   "outputs": [],
   "source": []
  }
 ],
 "metadata": {
  "kernelspec": {
   "display_name": "Python 3",
   "language": "python",
   "name": "python3"
  },
  "language_info": {
   "codemirror_mode": {
    "name": "ipython",
    "version": 3
   },
   "file_extension": ".py",
   "mimetype": "text/x-python",
   "name": "python",
   "nbconvert_exporter": "python",
   "pygments_lexer": "ipython3",
   "version": "3.6.9"
  }
 },
 "nbformat": 4,
 "nbformat_minor": 4
}
